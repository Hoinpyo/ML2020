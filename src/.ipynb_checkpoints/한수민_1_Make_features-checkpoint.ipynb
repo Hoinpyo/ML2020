{
 "cells": [
  {
   "cell_type": "markdown",
   "metadata": {
    "_uuid": "556cdc4051132fbfb923c044e1672cf66c6ec56b",
    "colab": {
     "autoexec": {
      "startup": false,
      "wait_interval": 0
     }
    },
    "colab_type": "code",
    "id": "UkhKBx7chTQS"
   },
   "source": [
    "<font color=\"#CC3D3D\"><p>\n",
    "# 트랜잭션 데이터로부터 feature를 생성한 후 학습용과 평가용 데이터로 나누기"
   ]
  },
  {
   "cell_type": "markdown",
   "metadata": {
    "_uuid": "556cdc4051132fbfb923c044e1672cf66c6ec56b",
    "colab": {
     "autoexec": {
      "startup": false,
      "wait_interval": 0
     }
    },
    "colab_type": "code",
    "id": "UkhKBx7chTQS"
   },
   "source": [
    "- **Input**: 트랜잭션 데이터(`train_transactions.csv`, `test_transactions.csv`)\n",
    "- **Output**: 위 데이터로부터 파생변수(feature)를 만든 후 모형 학습용(`X_train.csv`)과 평가용(`X_test.csv`) 데이터 생성"
   ]
  },
  {
   "cell_type": "code",
   "execution_count": 9,
   "metadata": {
    "_uuid": "a159c8e50113be1e21e50dfe60bd402d84929a65",
    "colab_type": "text",
    "id": "AcNEX5K8hTQW"
   },
   "outputs": [],
   "source": [
    "import pandas as pd\n",
    "import numpy as np\n",
    "from pandas import Series, DataFrame\n",
    "import seaborn as sns\n",
    "import matplotlib.pylab as plt\n",
    "from matplotlib import font_manager, rc\n",
    "import os\n",
    "%matplotlib inline\n",
    "\n",
    "pd.set_option('max_columns', 20, 'max_rows', 20)"
   ]
  },
  {
   "cell_type": "code",
   "execution_count": 10,
   "metadata": {},
   "outputs": [],
   "source": [
    "# 차트에서 한글 출력을 위한 설정\n",
    "import platform\n",
    "your_os = platform.system()\n",
    "if your_os == 'Linux':\n",
    "    rc('font', family='NanumGothic')\n",
    "elif your_os == 'Windows':\n",
    "    ttf = \"c:/Windows/Fonts/malgun.ttf\"\n",
    "    font_name = font_manager.FontProperties(fname=ttf).get_name()\n",
    "    rc('font', family=font_name)\n",
    "elif your_os == 'Darwin':\n",
    "    rc('font', family='AppleGothic')\n",
    "rc('axes', unicode_minus=False)"
   ]
  },
  {
   "cell_type": "markdown",
   "metadata": {
    "_uuid": "a9813ebe8f5d527dfb4fd4bc3834c8547fae9b84",
    "colab": {
     "autoexec": {
      "startup": false,
      "wait_interval": 0
     }
    },
    "colab_type": "code",
    "id": "53OCEl0yhTQb"
   },
   "source": [
    "<font color=\"blue\"><p>\n",
    "## Read Transactions"
   ]
  },
  {
   "cell_type": "code",
   "execution_count": 11,
   "metadata": {
    "_uuid": "4d3d3ecc51ce4384c350cde591b5f6b2db3e91db",
    "colab_type": "text",
    "id": "AcNEX5K8hTQW"
   },
   "outputs": [
    {
     "ename": "FileNotFoundError",
     "evalue": "[Errno 2] No such file or directory: 'C:\\\\Users\\\\ansck\\\\python\\\\새 폴더\\\\제출할거\\\\dat/ train_transactions.csv'",
     "output_type": "error",
     "traceback": [
      "\u001b[1;31m---------------------------------------------------------------------------\u001b[0m",
      "\u001b[1;31mFileNotFoundError\u001b[0m                         Traceback (most recent call last)",
      "\u001b[1;32m<ipython-input-11-309da1fa0520>\u001b[0m in \u001b[0;36m<module>\u001b[1;34m\u001b[0m\n\u001b[1;32m----> 1\u001b[1;33m \u001b[0mtrain\u001b[0m \u001b[1;33m=\u001b[0m \u001b[0mpd\u001b[0m\u001b[1;33m.\u001b[0m\u001b[0mread_csv\u001b[0m\u001b[1;33m(\u001b[0m\u001b[0mos\u001b[0m\u001b[1;33m.\u001b[0m\u001b[0mpath\u001b[0m\u001b[1;33m.\u001b[0m\u001b[0mabspath\u001b[0m\u001b[1;33m(\u001b[0m\u001b[1;34m\"../dat\"\u001b[0m\u001b[1;33m)\u001b[0m\u001b[1;33m+\u001b[0m\u001b[1;34m'/ train_transactions.csv'\u001b[0m\u001b[1;33m,\u001b[0m \u001b[0mencoding\u001b[0m\u001b[1;33m=\u001b[0m\u001b[1;34m'cp949'\u001b[0m\u001b[1;33m)\u001b[0m\u001b[1;33m\u001b[0m\u001b[1;33m\u001b[0m\u001b[0m\n\u001b[0m\u001b[0;32m      2\u001b[0m \u001b[0mtest\u001b[0m \u001b[1;33m=\u001b[0m \u001b[0mpd\u001b[0m\u001b[1;33m.\u001b[0m\u001b[0mread_csv\u001b[0m\u001b[1;33m(\u001b[0m\u001b[0mos\u001b[0m\u001b[1;33m.\u001b[0m\u001b[0mpath\u001b[0m\u001b[1;33m.\u001b[0m\u001b[0mabspath\u001b[0m\u001b[1;33m(\u001b[0m\u001b[1;34m\"../dat\"\u001b[0m\u001b[1;33m)\u001b[0m\u001b[1;33m+\u001b[0m\u001b[1;34m'/ test_transactions.csv'\u001b[0m\u001b[1;33m,\u001b[0m \u001b[0mencoding\u001b[0m\u001b[1;33m=\u001b[0m\u001b[1;34m'cp949'\u001b[0m\u001b[1;33m)\u001b[0m\u001b[1;33m\u001b[0m\u001b[1;33m\u001b[0m\u001b[0m\n\u001b[0;32m      3\u001b[0m \u001b[0mtr\u001b[0m \u001b[1;33m=\u001b[0m \u001b[0mpd\u001b[0m\u001b[1;33m.\u001b[0m\u001b[0mconcat\u001b[0m\u001b[1;33m(\u001b[0m\u001b[1;33m[\u001b[0m\u001b[0mtrain\u001b[0m\u001b[1;33m,\u001b[0m \u001b[0mtest\u001b[0m\u001b[1;33m]\u001b[0m\u001b[1;33m)\u001b[0m\u001b[1;33m\u001b[0m\u001b[1;33m\u001b[0m\u001b[0m\n",
      "\u001b[1;32m~\\anaconda3\\lib\\site-packages\\pandas\\io\\parsers.py\u001b[0m in \u001b[0;36mparser_f\u001b[1;34m(filepath_or_buffer, sep, delimiter, header, names, index_col, usecols, squeeze, prefix, mangle_dupe_cols, dtype, engine, converters, true_values, false_values, skipinitialspace, skiprows, skipfooter, nrows, na_values, keep_default_na, na_filter, verbose, skip_blank_lines, parse_dates, infer_datetime_format, keep_date_col, date_parser, dayfirst, cache_dates, iterator, chunksize, compression, thousands, decimal, lineterminator, quotechar, quoting, doublequote, escapechar, comment, encoding, dialect, error_bad_lines, warn_bad_lines, delim_whitespace, low_memory, memory_map, float_precision)\u001b[0m\n\u001b[0;32m    674\u001b[0m         )\n\u001b[0;32m    675\u001b[0m \u001b[1;33m\u001b[0m\u001b[0m\n\u001b[1;32m--> 676\u001b[1;33m         \u001b[1;32mreturn\u001b[0m \u001b[0m_read\u001b[0m\u001b[1;33m(\u001b[0m\u001b[0mfilepath_or_buffer\u001b[0m\u001b[1;33m,\u001b[0m \u001b[0mkwds\u001b[0m\u001b[1;33m)\u001b[0m\u001b[1;33m\u001b[0m\u001b[1;33m\u001b[0m\u001b[0m\n\u001b[0m\u001b[0;32m    677\u001b[0m \u001b[1;33m\u001b[0m\u001b[0m\n\u001b[0;32m    678\u001b[0m     \u001b[0mparser_f\u001b[0m\u001b[1;33m.\u001b[0m\u001b[0m__name__\u001b[0m \u001b[1;33m=\u001b[0m \u001b[0mname\u001b[0m\u001b[1;33m\u001b[0m\u001b[1;33m\u001b[0m\u001b[0m\n",
      "\u001b[1;32m~\\anaconda3\\lib\\site-packages\\pandas\\io\\parsers.py\u001b[0m in \u001b[0;36m_read\u001b[1;34m(filepath_or_buffer, kwds)\u001b[0m\n\u001b[0;32m    446\u001b[0m \u001b[1;33m\u001b[0m\u001b[0m\n\u001b[0;32m    447\u001b[0m     \u001b[1;31m# Create the parser.\u001b[0m\u001b[1;33m\u001b[0m\u001b[1;33m\u001b[0m\u001b[1;33m\u001b[0m\u001b[0m\n\u001b[1;32m--> 448\u001b[1;33m     \u001b[0mparser\u001b[0m \u001b[1;33m=\u001b[0m \u001b[0mTextFileReader\u001b[0m\u001b[1;33m(\u001b[0m\u001b[0mfp_or_buf\u001b[0m\u001b[1;33m,\u001b[0m \u001b[1;33m**\u001b[0m\u001b[0mkwds\u001b[0m\u001b[1;33m)\u001b[0m\u001b[1;33m\u001b[0m\u001b[1;33m\u001b[0m\u001b[0m\n\u001b[0m\u001b[0;32m    449\u001b[0m \u001b[1;33m\u001b[0m\u001b[0m\n\u001b[0;32m    450\u001b[0m     \u001b[1;32mif\u001b[0m \u001b[0mchunksize\u001b[0m \u001b[1;32mor\u001b[0m \u001b[0miterator\u001b[0m\u001b[1;33m:\u001b[0m\u001b[1;33m\u001b[0m\u001b[1;33m\u001b[0m\u001b[0m\n",
      "\u001b[1;32m~\\anaconda3\\lib\\site-packages\\pandas\\io\\parsers.py\u001b[0m in \u001b[0;36m__init__\u001b[1;34m(self, f, engine, **kwds)\u001b[0m\n\u001b[0;32m    878\u001b[0m             \u001b[0mself\u001b[0m\u001b[1;33m.\u001b[0m\u001b[0moptions\u001b[0m\u001b[1;33m[\u001b[0m\u001b[1;34m\"has_index_names\"\u001b[0m\u001b[1;33m]\u001b[0m \u001b[1;33m=\u001b[0m \u001b[0mkwds\u001b[0m\u001b[1;33m[\u001b[0m\u001b[1;34m\"has_index_names\"\u001b[0m\u001b[1;33m]\u001b[0m\u001b[1;33m\u001b[0m\u001b[1;33m\u001b[0m\u001b[0m\n\u001b[0;32m    879\u001b[0m \u001b[1;33m\u001b[0m\u001b[0m\n\u001b[1;32m--> 880\u001b[1;33m         \u001b[0mself\u001b[0m\u001b[1;33m.\u001b[0m\u001b[0m_make_engine\u001b[0m\u001b[1;33m(\u001b[0m\u001b[0mself\u001b[0m\u001b[1;33m.\u001b[0m\u001b[0mengine\u001b[0m\u001b[1;33m)\u001b[0m\u001b[1;33m\u001b[0m\u001b[1;33m\u001b[0m\u001b[0m\n\u001b[0m\u001b[0;32m    881\u001b[0m \u001b[1;33m\u001b[0m\u001b[0m\n\u001b[0;32m    882\u001b[0m     \u001b[1;32mdef\u001b[0m \u001b[0mclose\u001b[0m\u001b[1;33m(\u001b[0m\u001b[0mself\u001b[0m\u001b[1;33m)\u001b[0m\u001b[1;33m:\u001b[0m\u001b[1;33m\u001b[0m\u001b[1;33m\u001b[0m\u001b[0m\n",
      "\u001b[1;32m~\\anaconda3\\lib\\site-packages\\pandas\\io\\parsers.py\u001b[0m in \u001b[0;36m_make_engine\u001b[1;34m(self, engine)\u001b[0m\n\u001b[0;32m   1112\u001b[0m     \u001b[1;32mdef\u001b[0m \u001b[0m_make_engine\u001b[0m\u001b[1;33m(\u001b[0m\u001b[0mself\u001b[0m\u001b[1;33m,\u001b[0m \u001b[0mengine\u001b[0m\u001b[1;33m=\u001b[0m\u001b[1;34m\"c\"\u001b[0m\u001b[1;33m)\u001b[0m\u001b[1;33m:\u001b[0m\u001b[1;33m\u001b[0m\u001b[1;33m\u001b[0m\u001b[0m\n\u001b[0;32m   1113\u001b[0m         \u001b[1;32mif\u001b[0m \u001b[0mengine\u001b[0m \u001b[1;33m==\u001b[0m \u001b[1;34m\"c\"\u001b[0m\u001b[1;33m:\u001b[0m\u001b[1;33m\u001b[0m\u001b[1;33m\u001b[0m\u001b[0m\n\u001b[1;32m-> 1114\u001b[1;33m             \u001b[0mself\u001b[0m\u001b[1;33m.\u001b[0m\u001b[0m_engine\u001b[0m \u001b[1;33m=\u001b[0m \u001b[0mCParserWrapper\u001b[0m\u001b[1;33m(\u001b[0m\u001b[0mself\u001b[0m\u001b[1;33m.\u001b[0m\u001b[0mf\u001b[0m\u001b[1;33m,\u001b[0m \u001b[1;33m**\u001b[0m\u001b[0mself\u001b[0m\u001b[1;33m.\u001b[0m\u001b[0moptions\u001b[0m\u001b[1;33m)\u001b[0m\u001b[1;33m\u001b[0m\u001b[1;33m\u001b[0m\u001b[0m\n\u001b[0m\u001b[0;32m   1115\u001b[0m         \u001b[1;32melse\u001b[0m\u001b[1;33m:\u001b[0m\u001b[1;33m\u001b[0m\u001b[1;33m\u001b[0m\u001b[0m\n\u001b[0;32m   1116\u001b[0m             \u001b[1;32mif\u001b[0m \u001b[0mengine\u001b[0m \u001b[1;33m==\u001b[0m \u001b[1;34m\"python\"\u001b[0m\u001b[1;33m:\u001b[0m\u001b[1;33m\u001b[0m\u001b[1;33m\u001b[0m\u001b[0m\n",
      "\u001b[1;32m~\\anaconda3\\lib\\site-packages\\pandas\\io\\parsers.py\u001b[0m in \u001b[0;36m__init__\u001b[1;34m(self, src, **kwds)\u001b[0m\n\u001b[0;32m   1872\u001b[0m         \u001b[1;32mif\u001b[0m \u001b[0mkwds\u001b[0m\u001b[1;33m.\u001b[0m\u001b[0mget\u001b[0m\u001b[1;33m(\u001b[0m\u001b[1;34m\"compression\"\u001b[0m\u001b[1;33m)\u001b[0m \u001b[1;32mis\u001b[0m \u001b[1;32mNone\u001b[0m \u001b[1;32mand\u001b[0m \u001b[0mencoding\u001b[0m\u001b[1;33m:\u001b[0m\u001b[1;33m\u001b[0m\u001b[1;33m\u001b[0m\u001b[0m\n\u001b[0;32m   1873\u001b[0m             \u001b[1;32mif\u001b[0m \u001b[0misinstance\u001b[0m\u001b[1;33m(\u001b[0m\u001b[0msrc\u001b[0m\u001b[1;33m,\u001b[0m \u001b[0mstr\u001b[0m\u001b[1;33m)\u001b[0m\u001b[1;33m:\u001b[0m\u001b[1;33m\u001b[0m\u001b[1;33m\u001b[0m\u001b[0m\n\u001b[1;32m-> 1874\u001b[1;33m                 \u001b[0msrc\u001b[0m \u001b[1;33m=\u001b[0m \u001b[0mopen\u001b[0m\u001b[1;33m(\u001b[0m\u001b[0msrc\u001b[0m\u001b[1;33m,\u001b[0m \u001b[1;34m\"rb\"\u001b[0m\u001b[1;33m)\u001b[0m\u001b[1;33m\u001b[0m\u001b[1;33m\u001b[0m\u001b[0m\n\u001b[0m\u001b[0;32m   1875\u001b[0m                 \u001b[0mself\u001b[0m\u001b[1;33m.\u001b[0m\u001b[0mhandles\u001b[0m\u001b[1;33m.\u001b[0m\u001b[0mappend\u001b[0m\u001b[1;33m(\u001b[0m\u001b[0msrc\u001b[0m\u001b[1;33m)\u001b[0m\u001b[1;33m\u001b[0m\u001b[1;33m\u001b[0m\u001b[0m\n\u001b[0;32m   1876\u001b[0m \u001b[1;33m\u001b[0m\u001b[0m\n",
      "\u001b[1;31mFileNotFoundError\u001b[0m: [Errno 2] No such file or directory: 'C:\\\\Users\\\\ansck\\\\python\\\\새 폴더\\\\제출할거\\\\dat/ train_transactions.csv'"
     ]
    }
   ],
   "source": [
    "train = pd.read_csv(os.path.abspath(\"../dat\")+'/ train_transactions.csv', encoding='cp949')\n",
    "test = pd.read_csv(os.path.abspath(\"../dat\")+'/ test_transactions.csv', encoding='cp949')\n",
    "tr = pd.concat([train, test])"
   ]
  },
  {
   "cell_type": "markdown",
   "metadata": {},
   "source": [
    "## Feature Generation"
   ]
  },
  {
   "cell_type": "markdown",
   "metadata": {
    "_uuid": "1852c916b613fcc482b4b610266f67dc81136c29",
    "colab": {
     "autoexec": {
      "startup": false,
      "wait_interval": 0
     }
    },
    "colab_type": "code",
    "id": "53OCEl0yhTQb"
   },
   "source": [
    "*새로 만든 feature와 병합할 고객ID로만 이루어진 데이터프레임을 만든다.*"
   ]
  },
  {
   "cell_type": "code",
   "execution_count": null,
   "metadata": {
    "_uuid": "b4e20dd97f10314ba59bb7fbf8133dd36e3f7145",
    "colab": {
     "autoexec": {
      "startup": false,
      "wait_interval": 0
     }
    },
    "colab_type": "code",
    "id": "53OCEl0yhTQb"
   },
   "outputs": [],
   "source": [
    "features = pd.DataFrame({'cust_id': tr.cust_id.unique()})"
   ]
  },
  {
   "cell_type": "markdown",
   "metadata": {
    "_uuid": "a9813ebe8f5d527dfb4fd4bc3834c8547fae9b84",
    "colab": {
     "autoexec": {
      "startup": false,
      "wait_interval": 0
     }
    },
    "colab_type": "code",
    "id": "53OCEl0yhTQb"
   },
   "source": [
    "<br><font color='green'>\n",
    "### Numeric Features"
   ]
  },
  {
   "cell_type": "markdown",
   "metadata": {
    "_uuid": "5ed780e8eb76d47ba75090153c3e6e1af9564814",
    "colab_type": "text",
    "id": "77n9pGuqhTQe"
   },
   "source": [
    "**[파생변수 1-4]** 총구매액, 구매건수, 평균구매액, 최대구매액"
   ]
  },
  {
   "cell_type": "code",
   "execution_count": null,
   "metadata": {},
   "outputs": [],
   "source": [
    "f = tr.groupby('cust_id')['amount'].agg([\n",
    "    ('총구매액',np.sum), \n",
    "    ('구매건수', np.size), \n",
    "    ('평균구매액', lambda x: np.round(np.mean(x))),\n",
    "    ('최대구매액', np.max),\n",
    "]).reset_index()\n",
    "features = features.merge(f, how='left'); features"
   ]
  },
  {
   "cell_type": "code",
   "execution_count": null,
   "metadata": {},
   "outputs": [],
   "source": [
    "# histogram\n",
    "f.hist(bins=20, figsize=(15,10))\n",
    "plt.show()"
   ]
  },
  {
   "cell_type": "markdown",
   "metadata": {
    "_uuid": "46848c443bd890e1397def372901b54e013b7c78",
    "colab_type": "text",
    "id": "hlQ_5LRPhTQt"
   },
   "source": [
    "**[파생변수 5-7]** 구매상품종류(goods_id, gds_grp_nm, gds_grp_mclas_nm 각각)"
   ]
  },
  {
   "cell_type": "code",
   "execution_count": null,
   "metadata": {},
   "outputs": [],
   "source": [
    "f = tr.groupby('cust_id').agg({\n",
    "    'goods_id': [('구매상품종류1', lambda x: x.nunique())],\n",
    "    'gds_grp_nm': [('구매상품종류2', lambda x: x.nunique())],\n",
    "    'gds_grp_mclas_nm': [('구매상품종류3', lambda x: x.nunique())]\n",
    "})\n",
    "\n",
    "f.columns = f.columns.droplevel()  # 동일한 코드: f.columns = [j for _, j in f.columns]\n",
    "f=f.reset_index()\n",
    "features = features.merge(f, how='left'); features"
   ]
  },
  {
   "cell_type": "code",
   "execution_count": null,
   "metadata": {},
   "outputs": [],
   "source": [
    "# histogram\n",
    "f.hist(bins=20, figsize=(15,10))\n",
    "plt.show()"
   ]
  },
  {
   "cell_type": "markdown",
   "metadata": {
    "_uuid": "d2bcf4d14eb1c2435cc89fd45cfd8fc64c54cb96",
    "colab_type": "text",
    "id": "DatphOovhTQ0"
   },
   "source": [
    "**[파생변수 8-14]** 내점일수, 구매주기, 주말방문비율, 계절별 구매비율(Spring(3-5)/Summer(6-8)/Fall(9-11)/Winter(12-2))"
   ]
  },
  {
   "cell_type": "code",
   "execution_count": null,
   "metadata": {},
   "outputs": [],
   "source": [
    "f = tr.groupby('cust_id')['tran_date'].agg([\n",
    "    ('내점일수',lambda x: x.str[:10].nunique()),\n",
    "    ('구매주기', lambda x: int((x.astype('datetime64').max() - x.astype('datetime64').min()).days / x.str[:10].nunique())),\n",
    "    ('주말방문비율', lambda x: np.mean(pd.to_datetime(x).dt.dayofweek>4)),\n",
    "    ('봄-구매비율', lambda x: np.mean(pd.to_datetime(x).dt.month.isin([3,4,5]))),\n",
    "    ('여름-구매비율', lambda x: np.mean(pd.to_datetime(x).dt.month.isin([6,7,8]))),\n",
    "    ('가을-구매비율', lambda x: np.mean(pd.to_datetime(x).dt.month.isin([9,10,11]))),\n",
    "    ('겨울-구매비율', lambda x: np.mean(pd.to_datetime(x).dt.month.isin([1,2,12])))\n",
    "]).reset_index()\n",
    "features = features.merge(f, how='left'); features"
   ]
  },
  {
   "cell_type": "markdown",
   "metadata": {},
   "source": [
    "**[파생변수 15-16]** 환불금액, 환불건수"
   ]
  },
  {
   "cell_type": "code",
   "execution_count": null,
   "metadata": {},
   "outputs": [],
   "source": [
    "f = tr[tr.amount < 0].groupby('cust_id')['amount'].agg([\n",
    "    ('환불금액', lambda x: x.sum() * -1),\n",
    "    ('환불건수', np.size)\n",
    "]).reset_index()\n",
    "features = features.merge(f, how='left'); features"
   ]
  },
  {
   "cell_type": "markdown",
   "metadata": {},
   "source": [
    "**[파생변수 17-18]** 내점 당 구매액, 구매건수"
   ]
  },
  {
   "cell_type": "code",
   "execution_count": null,
   "metadata": {},
   "outputs": [],
   "source": [
    "# 내점 당 구매액 = 총구매액 / 내점일수\n",
    "visits = tr.groupby('cust_id')['tran_date'].agg(lambda x: x.nunique())\n",
    "f = (tr.groupby('cust_id')['amount'].sum() / visits).reset_index().rename(columns={0 : \"내점당구매액\"})\n",
    "features = features.merge(f, how='left'); features\n",
    "f = (tr.groupby('cust_id')['amount'].size() / visits).reset_index().rename(columns={0 : \"내점당구매건수\"})\n",
    "features = features.merge(f, how='left'); features"
   ]
  },
  {
   "cell_type": "markdown",
   "metadata": {},
   "source": [
    "**[파생변수 19-24]** 최근 3개월, 6개월, 12개월 구매금액 및 구매건수"
   ]
  },
  {
   "cell_type": "code",
   "execution_count": null,
   "metadata": {},
   "outputs": [],
   "source": [
    "# pd.to_datetime(), pd.offsets.MonthBegin(3)\n",
    "for m in [3,6,12]:\n",
    "    start = str(pd.to_datetime(tr.tran_date.max()) - pd.offsets.MonthBegin(m))\n",
    "    f = tr.query('tran_date >= @start').groupby('cust_id')['amount'].agg([\n",
    "        (f'최근{m}개월_구매금액', np.sum), \n",
    "        (f'최근{m}개월_구매건수', np.size)\n",
    "    ]).reset_index()\n",
    "    display(f)\n",
    "    features = features.merge(f, how='left'); features"
   ]
  },
  {
   "cell_type": "markdown",
   "metadata": {
    "_uuid": "b17dcecfe869001bcee8d68aa44a5bd455445b30",
    "colab_type": "text",
    "id": "ODRo0DrzhTRB"
   },
   "source": [
    "<br><font color='green'>\n",
    "### Categorical Features"
   ]
  },
  {
   "cell_type": "markdown",
   "metadata": {
    "_uuid": "7fd81bdb4cef875a30098f6e7e1bbcb1f5fbf205",
    "colab_type": "text",
    "id": "ODRo0DrzhTRB"
   },
   "source": [
    "**[파생변수 25]** 주구매 상품: 가장 많이 구매한 상품(gds_grp_mclas_nm)"
   ]
  },
  {
   "cell_type": "code",
   "execution_count": null,
   "metadata": {
    "_uuid": "f7a73b3a8372b2b05d10e42e80ad04b8a93c9135",
    "colab": {
     "autoexec": {
      "startup": false,
      "wait_interval": 0
     }
    },
    "colab_type": "code",
    "id": "ZYNOII1ahTRE",
    "outputId": "0d4943bb-ecbb-4cb8-e3a8-1f93888c4842"
   },
   "outputs": [],
   "source": [
    "f = tr.groupby('cust_id')['gds_grp_mclas_nm'].agg([\n",
    "    ('주구매상품', lambda x: x.value_counts().index[0])\n",
    "]).reset_index()\n",
    "features = features.merge(f, how='left'); features['주구매상품'].nunique()"
   ]
  },
  {
   "cell_type": "code",
   "execution_count": null,
   "metadata": {},
   "outputs": [],
   "source": [
    "# 범주형 속성 값의 빈도 출력\n",
    "fig, ax = plt.subplots(figsize=(15, 10))\n",
    "sns.countplot(y='주구매상품', data=f, alpha=0.5)"
   ]
  },
  {
   "cell_type": "markdown",
   "metadata": {},
   "source": [
    "**[파생변수 26]** 주구매 지점"
   ]
  },
  {
   "cell_type": "code",
   "execution_count": null,
   "metadata": {},
   "outputs": [],
   "source": [
    "f = tr.groupby('cust_id')['store_nm'].agg([\n",
    "    ('주구매지점', lambda x: x.value_counts().index[0])\n",
    "]).reset_index()\n",
    "features = features.merge(f, how='left'); features"
   ]
  },
  {
   "cell_type": "markdown",
   "metadata": {},
   "source": [
    "<br><font color='red'>\n",
    "**[파생변수 27-35]** 추가로 새로운 파생변수를 제안하고 구현해야 함! 아래는 예시.\n",
    "- 구매추세 패턴\n",
    "- 가격선호도 (예: 고가상품구매율)\n",
    "- 시즌 선호도\n",
    "- 휴면(또는 이탈) 여부\n",
    "- Top-10 베스트 셀러(gds_grp_mclas_nm)에 대한 구매 금액/건수/여부\n",
    "- 상품별 구매순서\n",
    "- 주구매 요일 "
   ]
  },
  {
   "cell_type": "markdown",
   "metadata": {},
   "source": [
    "### 구매 추세 기울기\n",
    "#### 출처 : 12.ipynb"
   ]
  },
  {
   "cell_type": "code",
   "execution_count": null,
   "metadata": {},
   "outputs": [],
   "source": [
    "tr['tran_month'] = tr['tran_date'].apply(lambda x: x[5:7])\n",
    "\n",
    "month = tr.groupby([tr['cust_id'],tr['tran_month']])['amount'].count().reset_index()\n",
    "month.tran_month = month.tran_month.apply(lambda x: int(x))\n",
    "df = pd.DataFrame(columns = ['cust_id', 'tran_month'])\n",
    "for cust_id in range(0,5982):\n",
    "    for tran_month in range(1,13):\n",
    "        df = df.append(pd.DataFrame([[cust_id, tran_month]], columns = ['cust_id', 'tran_month']))\n",
    "# groupby를 사용해본 결과 가지 않은 월의 경우 나타나지 않아 새로운 데이터프레임을 만들었다.\n",
    "df = df.merge(month, how='left')\n",
    "df = df.fillna(0)\n",
    "# 결측치로 남은 남은 데이터를 0으로 만들어 가지 않은 달은 0이라는 값을 가지도록 했다.\n",
    "df1 = pd.DataFrame(columns = ['cust_id', '기울기'])\n",
    "for i in range(0,df.cust_id.nunique()):\n",
    "    a = df.query('cust_id == @i').tran_month\n",
    "    b = df.query('cust_id == @i').amount\n",
    "    c = np.polyfit(a, b, 1)[0].round(2)\n",
    "    df1 = df1.append(pd.DataFrame([[i, c]], columns = ['cust_id', '구매 추세 기울기']))\n",
    "# 고객별 월 구매건수를 통해서 추세선을 찾고 기울기를 구하게 되었다.\n",
    "features = features.merge(df1, how='left')"
   ]
  },
  {
   "cell_type": "markdown",
   "metadata": {},
   "source": [
    "### 화장품구매주기\n",
    "#### 출처 : 20.ipynb"
   ]
  },
  {
   "cell_type": "code",
   "execution_count": null,
   "metadata": {},
   "outputs": [],
   "source": [
    "f = tr.query('gds_grp_mclas_nm == \"화장품\"').groupby('cust_id')['tran_date'].agg([('화장품구매주기', lambda x: int((x.astype('datetime64').max() - x.astype('datetime64').min()).days / x.str[:10].nunique()))]).reset_index()\n",
    "features = features.merge(f, how='left');features"
   ]
  },
  {
   "cell_type": "markdown",
   "metadata": {},
   "source": [
    "### 식료품 구매액 비율\n",
    "#### 출처 : 01.ipynb"
   ]
  },
  {
   "cell_type": "code",
   "execution_count": null,
   "metadata": {},
   "outputs": [],
   "source": [
    "food = ['축산가공', '육류', '수산품', '젓갈/반찬', '가공식품', '농산물', '차/커피', '주류'] # 식료품 대분류\n",
    "\n",
    "# 총구매액\n",
    "f = tr.groupby('cust_id')['amount'].agg([('총구매액', np.sum)]).reset_index()\n",
    "\n",
    "# 식료품 구매액\n",
    "food_amount = tr.query('gds_grp_mclas_nm == @food').groupby('cust_id')['amount'].agg([\n",
    "    ('식료품구매액', np.sum)\n",
    "]).reset_index()\n",
    "\n",
    "f = pd.merge(f, food_amount, on = 'cust_id', how = 'left').fillna(0)\n",
    "\n",
    "\n",
    "f['식료품구매액비율'] = f['식료품구매액'] / f['총구매액']\n",
    "features = features.merge(f[['cust_id', '식료품구매액비율']], how = 'left')"
   ]
  },
  {
   "cell_type": "markdown",
   "metadata": {},
   "source": [
    "### 평균 식료품 구매액 기반 고객 분류\n",
    "#### 출처 : 01.ipynb"
   ]
  },
  {
   "cell_type": "code",
   "execution_count": null,
   "metadata": {},
   "outputs": [],
   "source": [
    "food = ['축산가공', '육류', '수산품', '젓갈/반찬', '가공식품', '농산물', '차/커피', '주류'] # 식료품 대분류\n",
    "\n",
    "# 식료품 구매액\n",
    "f_a = tr.query('gds_grp_mclas_nm == @food').groupby('cust_id')['amount'].agg([\n",
    "    ('식료품구매액', np.sum)\n",
    "]).reset_index()\n",
    "\n",
    "# 식료품 구매건수\n",
    "f_c = tr.query('gds_grp_mclas_nm == @food').groupby('cust_id')['amount'].agg([\n",
    "    ('식료품구매건수', np.size)\n",
    "]).reset_index()\n",
    "\n",
    "# 평균 식료품 구매액\n",
    "f = pd.merge(f_a, f_c, on = 'cust_id', how = 'left').fillna(0)\n",
    "f['평균식료품구매액'] = f['식료품구매액'] / f['식료품구매건수']\n",
    "\n",
    "# 평균 식료품 구매액 5구간으로 나눔\n",
    "f['평균식료품구매액분위'] = pd.qcut(f['평균식료품구매액'], q=5, labels=range(1,6)).astype(int)\n",
    "features = features.merge(f[['cust_id', '평균식료품구매액분위']], how = 'left')"
   ]
  },
  {
   "cell_type": "markdown",
   "metadata": {},
   "source": [
    "### 고가 상품 구매율\n",
    "#### 출처 : 01.ipynb"
   ]
  },
  {
   "cell_type": "code",
   "execution_count": null,
   "metadata": {},
   "outputs": [],
   "source": [
    "# goods_id에 따른 평균가 계산\n",
    "price = tr.groupby('goods_id').mean().reset_index().drop(['cust_id'], axis = 1)\n",
    "\n",
    "# column 명 변경\n",
    "price.columns = ['goods_id', 'price']\n",
    "\n",
    "# goods_id별 price에 대한 4분위수 계산 후 4분위를 고가상품으로 설정\n",
    "price_4q = price['price'].quantile([.25,.5,.75])\n",
    "\n",
    "# tr 데이터에 price columns 추가\n",
    "tr = tr.merge(price, how = 'left')\n",
    "\n",
    "f = tr.groupby('cust_id')['price'].agg([\n",
    "    ('고가상품구매율', lambda x : (x > price_4q.iloc[2]).mean().round(2))\n",
    "]).reset_index()\n",
    "\n",
    "features = features.merge(f, how='left')"
   ]
  },
  {
   "cell_type": "markdown",
   "metadata": {},
   "source": [
    "### 베스트 셀러 구매율\n",
    "#### 출처 : 01.ipynb"
   ]
  },
  {
   "cell_type": "code",
   "execution_count": null,
   "metadata": {},
   "outputs": [],
   "source": [
    "best_sellers = ['농산물', '가공식품', '축산가공', '수산품', '화장품', '디자이너', '시티웨어', '일용잡화', '육류', '차/커피'] # 베스트 셀러 대분류\n",
    "\n",
    "# 총구매건수\n",
    "f = tr.groupby('cust_id')['amount'].agg([('구매건수', np.size)]).reset_index()\n",
    "\n",
    "# 베스트 셀러 구매건수\n",
    "b_s = tr.query('gds_grp_mclas_nm == @best_sellers').groupby('cust_id')['amount'].agg([\n",
    "    ('베스트셀러구매건수', np.size)\n",
    "]).reset_index()\n",
    "\n",
    "f = pd.merge(f, b_s, on = 'cust_id', how = 'left').fillna(0)\n",
    "\n",
    "f['베스트셀러구매비율'] = f['베스트셀러구매건수'] / f['구매건수']\n",
    "features = features.merge(f[['cust_id', '베스트셀러구매비율']], how = 'left')"
   ]
  },
  {
   "cell_type": "markdown",
   "metadata": {},
   "source": [
    "### 환불비율\n",
    "#### 출처 : 01.ipynb"
   ]
  },
  {
   "cell_type": "code",
   "execution_count": null,
   "metadata": {},
   "outputs": [],
   "source": [
    "# 총구매건수\n",
    "f = tr.groupby('cust_id')['amount'].agg([('구매건수', np.size)]).reset_index()\n",
    "\n",
    "# 환불건수\n",
    "g = tr[tr.amount < 0].groupby('cust_id')['amount'].agg([('환불건수', np.size)]).reset_index()\n",
    "\n",
    "f = f.merge(g, how = 'left').fillna(0)\n",
    "f['환불비율'] = f['환불건수'] / f['구매건수']\n",
    "\n",
    "features = features.merge(f[['cust_id', '환불비율']], how = 'left')"
   ]
  },
  {
   "cell_type": "markdown",
   "metadata": {},
   "source": [
    "### 스타킹 구매 건수\n",
    "#### 출처 : 01.ipynb"
   ]
  },
  {
   "cell_type": "code",
   "execution_count": null,
   "metadata": {},
   "outputs": [],
   "source": [
    "# 스타킹 구매건수\n",
    "f = tr.query(\"gds_grp_nm == '스타킹(특정)'\").groupby('cust_id')['amount'].agg([\n",
    "    ('스타킹구매건수', np.size)\n",
    "]).reset_index()\n",
    "\n",
    "features = features.merge(f, how='left')"
   ]
  },
  {
   "cell_type": "markdown",
   "metadata": {},
   "source": [
    "### RFM Score 기반 고객 분류\n",
    "#### 출처 : 03.ipynb"
   ]
  },
  {
   "cell_type": "code",
   "execution_count": null,
   "metadata": {},
   "outputs": [],
   "source": [
    "r = tr.groupby('cust_id')['tran_date'].agg([\n",
    "    ('구매주기', lambda x: int((x.astype('datetime64').max() - x.astype('datetime64').min()).days / x.str[:10].nunique()))]).reset_index()\n",
    "f = tr.groupby('cust_id')['amount'].agg([ \n",
    "    ('구매건수', np.size)]).reset_index()\n",
    "m = tr.groupby('cust_id')['amount'].agg([ \n",
    "    ('총구매액', np.sum)]).reset_index()\n",
    "rfm = r.merge(f).merge(m)\n",
    "r_labels = range(4, 0, -1) \n",
    "f_labels = range(1, 5)\n",
    "m_labels = range(1, 5)\n",
    "\n",
    "rfm['r'] = pd.qcut(rfm['구매주기'], q=4, labels=r_labels).astype(int)\n",
    "rfm['f'] = pd.qcut(rfm['구매건수'], q=4, labels=f_labels).astype(int)\n",
    "rfm['m'] = pd.qcut(rfm['총구매액'], q=4, labels=m_labels).astype(int)\n",
    "rfm_s = [2, 2, 3]\n",
    "rfm['rfm'] = rfm_s[0] * rfm['r'] + rfm_s[1] * rfm['f'] + rfm_s[2] * rfm['m']\n",
    "seg_map = { \n",
    "    r'[1-2][1-2]': '수면고객',\n",
    "    r'13': '이탈위험고객',\n",
    "    r'14': '관심대상고객',\n",
    "    r'23': '3등급고객',\n",
    "    r'24': '2.5등급고객',\n",
    "    r'[3-4]1': '신규고객',\n",
    "    r'32': '3등급고객',\n",
    "    r'42': '2.5등급고객',\n",
    "    r'33': '2등급고객',\n",
    "    r'43': '1등급고객',\n",
    "    r'34': '1등급고객',\n",
    "    r'44': 'vip고객'\n",
    "}\n",
    "\n",
    "rfm['고객등급'] = rfm['r'].map(str) + rfm['f'].map(str)\n",
    "rfm['고객등급'] = rfm['고객등급'].replace(seg_map, regex=True)\n",
    "rfm = rfm.drop(\"구매주기\", axis=1)\n",
    "rfm = rfm.drop(\"구매건수\", axis=1)\n",
    "rfm = rfm.drop(\"총구매액\", axis=1)\n",
    "rfm = rfm.drop(\"r\", axis=1)\n",
    "rfm = rfm.drop(\"f\", axis=1)\n",
    "rfm = rfm.drop(\"m\", axis=1)\n",
    "rfm = rfm.drop(\"rfm\", axis=1)\n",
    "features = features.merge(rfm, how='left');features"
   ]
  },
  {
   "cell_type": "markdown",
   "metadata": {},
   "source": [
    "### 고객의 평일방문비율\n",
    "#### 출처 : 03.ipynb"
   ]
  },
  {
   "cell_type": "code",
   "execution_count": null,
   "metadata": {},
   "outputs": [],
   "source": [
    "t = tr.groupby('cust_id')['tran_date'].agg([\n",
    "    ('평일방문비율', lambda x:np.mean(pd.to_datetime(x).dt.dayofweek<=4))\n",
    "]).reset_index();t\n",
    "features = features.merge(t, how='left');features"
   ]
  },
  {
   "cell_type": "markdown",
   "metadata": {},
   "source": [
    "### 평균대비구매비중\n",
    "#### 출처 : 03.ipynb"
   ]
  },
  {
   "cell_type": "code",
   "execution_count": 12,
   "metadata": {},
   "outputs": [
    {
     "ename": "NameError",
     "evalue": "name 'tr' is not defined",
     "output_type": "error",
     "traceback": [
      "\u001b[1;31m---------------------------------------------------------------------------\u001b[0m",
      "\u001b[1;31mNameError\u001b[0m                                 Traceback (most recent call last)",
      "\u001b[1;32m<ipython-input-12-4e13181baf70>\u001b[0m in \u001b[0;36m<module>\u001b[1;34m\u001b[0m\n\u001b[1;32m----> 1\u001b[1;33m \u001b[0mt\u001b[0m \u001b[1;33m=\u001b[0m \u001b[0mtr\u001b[0m\u001b[1;33m.\u001b[0m\u001b[0mgroupby\u001b[0m\u001b[1;33m(\u001b[0m\u001b[1;34m'cust_id'\u001b[0m\u001b[1;33m)\u001b[0m\u001b[1;33m[\u001b[0m\u001b[1;34m'amount'\u001b[0m\u001b[1;33m]\u001b[0m\u001b[1;33m.\u001b[0m\u001b[0msum\u001b[0m\u001b[1;33m(\u001b[0m\u001b[1;33m)\u001b[0m \u001b[1;33m/\u001b[0m \u001b[0mtr\u001b[0m\u001b[1;33m.\u001b[0m\u001b[0mamount\u001b[0m\u001b[1;33m.\u001b[0m\u001b[0mmean\u001b[0m\u001b[1;33m(\u001b[0m\u001b[1;33m)\u001b[0m\u001b[1;33m\u001b[0m\u001b[1;33m\u001b[0m\u001b[0m\n\u001b[0m\u001b[0;32m      2\u001b[0m \u001b[0mt\u001b[0m \u001b[1;33m=\u001b[0m \u001b[0mt\u001b[0m\u001b[1;33m.\u001b[0m\u001b[0mastype\u001b[0m\u001b[1;33m(\u001b[0m\u001b[0mstr\u001b[0m\u001b[1;33m)\u001b[0m\u001b[1;33m.\u001b[0m\u001b[0mreset_index\u001b[0m\u001b[1;33m(\u001b[0m\u001b[1;33m)\u001b[0m\u001b[1;33m;\u001b[0m\u001b[0mt\u001b[0m\u001b[1;33m\u001b[0m\u001b[1;33m\u001b[0m\u001b[0m\n\u001b[0;32m      3\u001b[0m \u001b[0mt\u001b[0m \u001b[1;33m=\u001b[0m \u001b[0mt\u001b[0m\u001b[1;33m.\u001b[0m\u001b[0mrename\u001b[0m\u001b[1;33m(\u001b[0m\u001b[0mcolumns\u001b[0m \u001b[1;33m=\u001b[0m \u001b[1;33m{\u001b[0m\u001b[1;34m'amount'\u001b[0m \u001b[1;33m:\u001b[0m \u001b[1;34m'평균대비구매비중'\u001b[0m\u001b[1;33m}\u001b[0m\u001b[1;33m)\u001b[0m\u001b[1;33m;\u001b[0m\u001b[0mt\u001b[0m\u001b[1;33m\u001b[0m\u001b[1;33m\u001b[0m\u001b[0m\n\u001b[0;32m      4\u001b[0m \u001b[0mfeatures\u001b[0m \u001b[1;33m=\u001b[0m \u001b[0mfeatures\u001b[0m\u001b[1;33m.\u001b[0m\u001b[0mmerge\u001b[0m\u001b[1;33m(\u001b[0m\u001b[0mt\u001b[0m\u001b[1;33m,\u001b[0m \u001b[0mhow\u001b[0m\u001b[1;33m=\u001b[0m\u001b[1;34m'left'\u001b[0m\u001b[1;33m)\u001b[0m\u001b[1;33m;\u001b[0m\u001b[0mfeatures\u001b[0m\u001b[1;33m\u001b[0m\u001b[1;33m\u001b[0m\u001b[0m\n",
      "\u001b[1;31mNameError\u001b[0m: name 'tr' is not defined"
     ]
    }
   ],
   "source": [
    "t = tr.groupby('cust_id')['amount'].sum() / tr.amount.mean()\n",
    "t = t.astype(str).reset_index();t\n",
    "t = t.rename(columns = {'amount' : '평균대비구매비중'});t\n",
    "features = features.merge(t, how='left');features"
   ]
  },
  {
   "cell_type": "markdown",
   "metadata": {},
   "source": [
    "### 주환불상품\n",
    "#### 출처 : 03.ipynb"
   ]
  },
  {
   "cell_type": "code",
   "execution_count": null,
   "metadata": {},
   "outputs": [],
   "source": [
    "t = tr[tr.amount < 0].groupby('cust_id')['gds_grp_nm'].agg([\n",
    "    ('주환불상품', lambda x: x.value_counts().index[0])\n",
    "]).reset_index();t\n",
    "features = features.merge(t, how='left');features['주환불상품'].nunique()"
   ]
  },
  {
   "cell_type": "markdown",
   "metadata": {},
   "source": [
    "### '남성'이 포함된 상품 구매건수\n",
    "#### 출처 : 03.ipynb"
   ]
  },
  {
   "cell_type": "code",
   "execution_count": null,
   "metadata": {},
   "outputs": [],
   "source": [
    "tr['남성'] = tr['gds_grp_mclas_nm'].str.contains('남성').astype(int)\n",
    "t = tr[tr.남성 ==1].groupby('cust_id')['amount'].agg([\n",
    "    (\"남성포함상품구매건수\" , np.size)\n",
    "]).reset_index()\n",
    "features = features.merge(t, how='left');features"
   ]
  },
  {
   "cell_type": "markdown",
   "metadata": {},
   "source": [
    "### 여성관련 키워드가 포함된 상품 구매건수\n",
    "#### 출처 : 03.ipynb"
   ]
  },
  {
   "cell_type": "code",
   "execution_count": null,
   "metadata": {},
   "outputs": [],
   "source": [
    "tr['여성'] = tr['gds_grp_mclas_nm'].str.startswith(('여','화장품','주방','란제리')).astype(int)\n",
    "t = tr[tr.여성 ==1].groupby('cust_id')['amount'].agg([\n",
    "    (\"여성키워드상품구매건수\" , np.size)\n",
    "]).reset_index()\n",
    "features = features.merge(t, how='left');features"
   ]
  },
  {
   "cell_type": "markdown",
   "metadata": {},
   "source": [
    "### 다양한 매장 방문\n",
    "#### 출처 : 12.ipynb"
   ]
  },
  {
   "cell_type": "code",
   "execution_count": null,
   "metadata": {},
   "outputs": [],
   "source": [
    "f = tr.groupby('cust_id')['store_nm'].agg([('다양한 매장 방문','nunique')]).reset_index() # 다양한 매장 방문\n",
    "features = features.merge(f, how='left')"
   ]
  },
  {
   "cell_type": "markdown",
   "metadata": {},
   "source": [
    "### 가격 선호도\n",
    "#### 출처 : 05.ipynb"
   ]
  },
  {
   "cell_type": "code",
   "execution_count": null,
   "metadata": {},
   "outputs": [],
   "source": [
    "# 고객별 구매 금액의 평균으로 가격 선호도 추출\n",
    "# 선호도의 숫자(1~5)가 높을수록 고가형 제품을 선호\n",
    "\n",
    "def grade(x):\n",
    "    if x <= 500000:\n",
    "        return 1\n",
    "    elif x <= 2000000:\n",
    "        return 2\n",
    "    elif x <= 5000000:\n",
    "        return 3\n",
    "    elif x <= 10000000:\n",
    "        return 4\n",
    "    elif x <= 50000000:\n",
    "        return 5\n",
    "\n",
    "    \n",
    "f = tr.groupby('cust_id')['amount'].agg([\n",
    "    ('가격선호도', lambda x: grade(np.mean(x)))\n",
    "]).reset_index()\n",
    "features = features.merge(f, how='left'); features"
   ]
  },
  {
   "cell_type": "markdown",
   "metadata": {},
   "source": [
    "### 라이프스타일 선호도\n",
    "#### 출처 : 05.ipynb"
   ]
  },
  {
   "cell_type": "code",
   "execution_count": null,
   "metadata": {},
   "outputs": [],
   "source": [
    "# 고객별 구매 금액의 평균과 구매 건수에 따른 라이프 스타일 추출\n",
    "\n",
    "def lifeStyle(x):\n",
    "    if x in ['농산물', '가공식품', '축산가공', '수산품', '육류', '차/커피', '젓갈/반찬', '건강식품', '주류']:\n",
    "        return '식품'\n",
    "    elif x in ['주방가전', '대형가전', '가구', '소형가전', '통신/컴퓨터', '전자/전기']:\n",
    "        return '가전'\n",
    "    elif x in ['일용잡화', '주방용품', '생활잡화', '식기', '침구/수예', '문구/팬시']:\n",
    "        return '생활용품'\n",
    "    elif x in ['골프', '스포츠', '악기']:\n",
    "        return '예체능'\n",
    "    elif x in ['액세서리', '준보석/시계', '디자이너', '명품', '보석']:\n",
    "        return '명품'\n",
    "    elif x in ['트래디셔널', '시티웨어', '섬유잡화', '캐주얼', '구두', '기타의류', '교복', '커리어']:\n",
    "        return '의류'\n",
    "    elif x in ['남성 캐주얼', '셔츠', '남성정장', '남성 트랜디']:\n",
    "        return '남성의류'\n",
    "    elif x in ['모피/피혁', '피혁잡화', '웨딩', '멀티(아울렛)', '란제리/내의']:\n",
    "        return '여성의류'\n",
    "    elif x in ['아동']:\n",
    "        return '아동용품'\n",
    "    elif x in ['화장품']:\n",
    "        return '화장품'\n",
    "    elif x in ['기타']:\n",
    "        return '기타'\n",
    "    \n",
    "tr[\"lifeStyle\"]=tr['gds_grp_mclas_nm'].apply(lifeStyle)\n",
    "\n",
    "f = pd.pivot_table(tr, index='cust_id', columns='lifeStyle', values='amount', aggfunc=np.mean, fill_value=0).reset_index()\n",
    "a = f.iloc[:,1:12] \n",
    "a['라이프 스타일(평균)'] = a.idxmax(axis=1)\n",
    "f = pd.concat([f, a], axis=1)['라이프 스타일(평균)'].reset_index(name = '라이프 스타일(평균)').rename(columns = {'index' : 'cust_id'})\n",
    "features = features.merge(f, how='left'); features\n",
    "\n",
    "f = pd.pivot_table(tr, index='cust_id', columns='lifeStyle', values='amount', aggfunc=np.size, fill_value=0).reset_index()\n",
    "a = f.iloc[:,1:12] \n",
    "a['라이프 스타일(건수)'] = a.idxmax(axis=1)\n",
    "f = pd.concat([f, a], axis=1)['라이프 스타일(건수)'].reset_index(name = '라이프 스타일(건수)').rename(columns = {'index' : 'cust_id'})\n",
    "features = features.merge(f, how='left'); features"
   ]
  },
  {
   "cell_type": "markdown",
   "metadata": {},
   "source": [
    "### 주구매 요일\n",
    "#### 출처 : 05.ipynb"
   ]
  },
  {
   "cell_type": "code",
   "execution_count": null,
   "metadata": {},
   "outputs": [],
   "source": [
    "# 고객별 주로 방문한 요일 추출\n",
    "\n",
    "tr['요일'] = tr['tran_date'].agg(lambda x: ('월', '화', '수', '목', '금', '토', '일')[pd.to_datetime(x).weekday()])\n",
    "\n",
    "f = tr.groupby('cust_id')['요일'].agg([('주구매 요일', lambda x: x.value_counts().index[0])]).reset_index()\n",
    "features = features.merge(f, how='left'); features"
   ]
  },
  {
   "cell_type": "markdown",
   "metadata": {},
   "source": [
    "### 선호방문계절, 선호방문월\n",
    "#### 출처 : 06.ipynb"
   ]
  },
  {
   "cell_type": "code",
   "execution_count": null,
   "metadata": {},
   "outputs": [],
   "source": [
    "tr['month'] = tr['tran_date'].agg(lambda x: pd.to_datetime(x).month)\n",
    "tr['season'] = tr['month'].agg(lambda x: 'spring' if x in [3,4,5] else 'summer' if x in [6,7,8]\n",
    "                              else 'fall' if x in [9,10,11] else 'fall')\n",
    "f = tr.groupby('cust_id')['season'].agg([\n",
    "    ('선호방문계절', lambda x: x.value_counts().index[0])\n",
    "])\n",
    "f['선호방문월'] = tr.groupby('cust_id')['month'].apply(lambda x: x.value_counts().index[0])\n",
    "f\n",
    "features = features.merge(f, on = 'cust_id', how = 'left') ; features"
   ]
  },
  {
   "cell_type": "markdown",
   "metadata": {},
   "source": [
    "### 행사상품구매수\n",
    "#### 출처 : 06.ipynb"
   ]
  },
  {
   "cell_type": "code",
   "execution_count": null,
   "metadata": {},
   "outputs": [],
   "source": [
    "f = tr[tr.gds_grp_mclas_nm.str.contains('행사') | tr.gds_grp_nm.str.contains('행사')]\n",
    "f = f.groupby('cust_id')['amount'].agg([\n",
    "    ('행사상품구매수','count')\n",
    "])\n",
    "features = features.merge(f, on = 'cust_id', how = 'left')"
   ]
  },
  {
   "cell_type": "markdown",
   "metadata": {},
   "source": [
    "### 저가상품구매비율\n",
    "#### 출처 : 07.ipynb"
   ]
  },
  {
   "cell_type": "code",
   "execution_count": null,
   "metadata": {},
   "outputs": [],
   "source": [
    "price_4q = tr.groupby('goods_id')['amount'].mean().quantile([.25,.5,.75])\n",
    "price_4q\n",
    "f = (tr.groupby('cust_id')['amount']\n",
    "     .agg([('저가상품구매율', lambda x: (x < price_4q.iloc[0]).mean().round(2))])\n",
    "     .reset_index())\n",
    "f\n",
    "features = features.merge(f, how='left')"
   ]
  },
  {
   "cell_type": "markdown",
   "metadata": {},
   "source": [
    "### 요일 간 구매건수 편차\n",
    "#### 출처 : 07.ipynb"
   ]
  },
  {
   "cell_type": "code",
   "execution_count": null,
   "metadata": {},
   "outputs": [],
   "source": [
    "tr.tran_date = tr.tran_date.astype(str).astype('datetime64') \n",
    "#요일 컬럼 추가\n",
    "tr['weekday_name'] = tr['tran_date'].dt.day_name()\n",
    "tr['weekday'] = tr['tran_date'].dt.weekday"
   ]
  },
  {
   "cell_type": "code",
   "execution_count": null,
   "metadata": {},
   "outputs": [],
   "source": [
    "f = pd.pivot_table(tr, index = 'cust_id', columns = 'weekday', values = 'amount', aggfunc = ['count'])\n",
    "f1 = f.transpose()/f.transpose().sum()\n",
    "f = f1.transpose()\n",
    "f = f.fillna(0)\n",
    "f2 = np.apply_along_axis(lambda x: np.max(x) - np.min(x), 1, f)\n",
    "features = pd.concat((features, pd.DataFrame(f2)), axis = 1)\n",
    "features = features.rename({0:'요일 간 구매건수 편차'}, axis = 'columns');features"
   ]
  },
  {
   "cell_type": "markdown",
   "metadata": {},
   "source": [
    "### 구매 물품 종류 수\n",
    "#### 출처 : 09.ipynb"
   ]
  },
  {
   "cell_type": "code",
   "execution_count": null,
   "metadata": {},
   "outputs": [],
   "source": [
    "f = tr.groupby('cust_id')['goods_id'].agg([\n",
    "    ('구매물품종류수', np.size)\n",
    "]).reset_index()\n",
    "features = features.merge(f, how='left'); features"
   ]
  },
  {
   "cell_type": "markdown",
   "metadata": {},
   "source": [
    "### 충동지수\n",
    "#### 출처 : 10.ipynb"
   ]
  },
  {
   "cell_type": "code",
   "execution_count": null,
   "metadata": {},
   "outputs": [],
   "source": [
    "f = tr.groupby('cust_id')['amount'].agg([\n",
    "    ('총구매액',np.sum)\n",
    "]).reset_index()\n",
    "features = features.merge(f, how='left');\n",
    "visits = tr.groupby('cust_id')['tran_date'].agg(lambda x: x.nunique())\n",
    "f = (tr.groupby('cust_id')['amount'].sum() / visits).reset_index().rename(columns={0 : \"내점당구매액\"})\n",
    "features = features.merge(f, how='left');\n",
    "features[\"충동지수\"] = features[\"내점당구매액\"]/features[\"총구매액\"]\n",
    "features"
   ]
  },
  {
   "cell_type": "markdown",
   "metadata": {},
   "source": [
    "### 가장 비싸게 산 품목\n",
    "#### 출처 : 10.ipynb"
   ]
  },
  {
   "cell_type": "code",
   "execution_count": null,
   "metadata": {},
   "outputs": [],
   "source": [
    "f = tr.groupby('cust_id')['amount'].agg([\n",
    "    ('최대구매액', np.max)\n",
    "]).reset_index()\n",
    "features = features.merge(f, how='left');\n",
    "\n",
    "features['가장 비싸게 산 품목'] = 0\n",
    "for i in range(len(tr)):\n",
    "    if tr.iloc[i,6] == features.iloc[tr.iloc[i,0],8]:\n",
    "        features['가장 비싸게 산 품목'][tr.iloc[i,0]] = tr.iloc[i,4]\n",
    "features"
   ]
  },
  {
   "cell_type": "markdown",
   "metadata": {},
   "source": [
    "### vip지수\n",
    "#### 출처 : 10.ipynb"
   ]
  },
  {
   "cell_type": "code",
   "execution_count": null,
   "metadata": {},
   "outputs": [],
   "source": [
    "f = tr.groupby('cust_id')['amount'].agg([\n",
    "    ('총구매액',np.sum)\n",
    "]).reset_index()\n",
    "features = features.merge(f, how='left');\n",
    "features[\"vip지수\"] = features[\"총구매액\"]/18000000\n",
    "features"
   ]
  },
  {
   "cell_type": "markdown",
   "metadata": {},
   "source": [
    "### 주중방문건수\n",
    "#### 출처 : 11.ipynb"
   ]
  },
  {
   "cell_type": "code",
   "execution_count": null,
   "metadata": {},
   "outputs": [],
   "source": [
    "f= tr.groupby('cust_id')['tran_date'].agg([\n",
    "    ('주중방문건수', lambda x: np.sum(pd.to_datetime(x).dt.dayofweek<=4))\n",
    "\n",
    "]).reset_index()\n",
    "features = features.merge(f, how='left'); features"
   ]
  },
  {
   "cell_type": "markdown",
   "metadata": {},
   "source": [
    "### 남성용품구매건수, 여성용품구매건수\n",
    "#### 출처 : 12.ipynb"
   ]
  },
  {
   "cell_type": "code",
   "execution_count": null,
   "metadata": {},
   "outputs": [],
   "source": [
    "# 새로운 상품군 만들기\n",
    "# 이름 그대로 남성, 여성이 붙은 상품이 있는 것을 발견했고 이를 포함해서 주 구매층이 남성, 여성인 제품들을 묶어 새로운 상품군을 만들었다.\n",
    "# 이성에게 선물을 해주는 경우가 존재하지만 소수일 것이라 생각했다.\n",
    "\n",
    "man_goods = ['N.B정장','N/B골프의류','주류','직수입 골프의류','스포츠화',\n",
    "             'L/C골프의류','L/C정장','단기행사(골프)','스포츠의류','레포츠',\n",
    "             '안주류','시계','넥타이(특정)','고정행사(골프)','등산화','골프용품',\n",
    "             '명품남성','셔츠고정행사','셔츠단기행사','명품시계기타',\n",
    "             '기타(가발,포장,담배,끽연구,사진,수선)','정상스포츠','단기행사(레져)',\n",
    "             '고정행사(레져)','시티정장바지','넥타이핀','직수입정장','맞춤셔츠',\n",
    "             '셔츠 직매입(PB)','IT 게임기','명품시계직매입','남성잡화멀티',\n",
    "             '정장점행사','NB 남화','남성시티 직매입']\n",
    "\n",
    "woman_goods = ['디자이너부틱','어덜트','란제리행사','뷰티상품','스타킹(특정)','보석',\n",
    "               '크리스탈','란제리','디자이너','색조 화장품','NB 여화','일반핸드백',\n",
    "               '직수입핸드백','숙녀단기행사','숙녀고정행사','영플라자(핸드백)','14K',\n",
    "               '모피','머플러(특정)','명품잡화보석','명품보석','수입잡화보석',\n",
    "               '주얼리멀티','란제리(멀티)','스카프(특정)']\n",
    "tr['man_goods'] = tr['gds_grp_nm'].apply(lambda x: 1 if x in man_goods else 0)\n",
    "tr['woman_goods'] = tr['gds_grp_nm'].apply(lambda x: 1 if x in woman_goods else 0)     # 상품군에 포함되는 경우 1을 주었다.\n",
    "f = tr.groupby('cust_id')['man_goods'].agg([('남성용품구매건수',np.sum)]).reset_index()      # 상품들을 더해 횟수를 구했다.\n",
    "features = features.merge(f, how='left')\n",
    "f = tr.groupby('cust_id')['woman_goods'].agg([('여성용품구매건수',np.sum)]).reset_index()\n",
    "features = features.merge(f, how='left')\n",
    "features"
   ]
  },
  {
   "cell_type": "markdown",
   "metadata": {},
   "source": [
    "### 하루 최고 구매 금액, 하루 최고 구매 건수\n",
    "#### 출처 : 12.ipynb"
   ]
  },
  {
   "cell_type": "code",
   "execution_count": null,
   "metadata": {},
   "outputs": [],
   "source": [
    "day = tr.groupby([tr['cust_id'],tr['tran_date']])['amount'].sum().reset_index()\n",
    "f = day.groupby('cust_id')['amount'].agg([('하루 최고 구매 금액', np.max)]).reset_index()\n",
    "features = features.merge(f, how='left')\n",
    "day = tr.groupby([tr['cust_id'],tr['tran_date']])['amount'].count().reset_index()\n",
    "f = day.groupby('cust_id')['amount'].agg([('하루 최고 구매 건수', np.max)]).reset_index()\n",
    "features = features.merge(f, how='left')"
   ]
  },
  {
   "cell_type": "markdown",
   "metadata": {},
   "source": [
    "### 금요일 방문 횟수\n",
    "#### 출처 : 12.ipynb"
   ]
  },
  {
   "cell_type": "code",
   "execution_count": null,
   "metadata": {},
   "outputs": [],
   "source": [
    "import arrow\n",
    "day = tr.groupby([tr['cust_id'],tr['tran_date']])['amount'].sum().reset_index()\n",
    "day['Fri']=day.tran_date.apply(lambda x : 1 if arrow.get(x).format('ddd', locale='ko')=='금' else 0)\n",
    "f = day.groupby('cust_id')['Fri'].agg([('금요일 방문 횟수','count')]).reset_index()\n",
    "features = features.merge(f, how='left')"
   ]
  },
  {
   "cell_type": "markdown",
   "metadata": {},
   "source": [
    "### 최근 구매일\n",
    "#### 출처 : 12.ipynb"
   ]
  },
  {
   "cell_type": "code",
   "execution_count": null,
   "metadata": {},
   "outputs": [],
   "source": [
    "tr['days'] = tr['tran_date'].apply(lambda x: (arrow.get('2008-01-01')-arrow.get(x)).days)\n",
    "f = tr.groupby('cust_id')['days'].agg([('최근 구매일',np.min)]).reset_index()\n",
    "features = features.merge(f, how='left')"
   ]
  },
  {
   "cell_type": "markdown",
   "metadata": {},
   "source": [
    "### 재구매 높은 상품에 대한 여부\n",
    "#### 출처 : 12.ipynb"
   ]
  },
  {
   "cell_type": "code",
   "execution_count": null,
   "metadata": {},
   "outputs": [],
   "source": [
    "d = tr.groupby([tr['cust_id'],tr['goods_id'],tr['gds_grp_nm']])['amount'].count().reset_index()\n",
    "f = d.query('amount >= 2').groupby('cust_id')['amount'].agg([('재구매 상품 갯수', 'count')]).reset_index()\n",
    "features = features.merge(df1, how='left')\n",
    "a = d['amount'].quantile(.99) # 상위 1프로\n",
    "re_pay = list(d.query('amount >= @a').goods_id.unique())\n",
    "tr['repay'] = tr['goods_id'].apply(lambda x: 1 if x in re_pay else 0)\n",
    "f = tr.groupby('cust_id')['repay'].agg([('재구매 높은 상품에 대한 여부',np.sum)]).reset_index()\n",
    "features = features.merge(f, how='left')"
   ]
  },
  {
   "cell_type": "markdown",
   "metadata": {},
   "source": [
    "### 만족도 떨어지는 제품 총 구입금액, 만족도 떨어지는 제품 총 구매건수\n",
    "#### 출처 : 12.ipynb"
   ]
  },
  {
   "cell_type": "code",
   "execution_count": null,
   "metadata": {},
   "outputs": [],
   "source": [
    "d = tr.query('amount < 0')   # 환불\n",
    "a = d.groupby('goods_id')['amount'].count().quantile(.99) # 상위 1프로 (겹치는 제품이 너무 많기에)\n",
    "z = d.groupby('goods_id')['amount'].count().reset_index() # 제품 id별 구매를 가져왔다.\n",
    "refund = list(z.query('amount >= @a')['goods_id'].unique()) # 높은 환불 제품 id를 리스트로 만들었다.\n",
    "d = tr.groupby([tr['cust_id'],tr['goods_id'],tr['gds_grp_nm']])['amount'].count().reset_index()\n",
    "# cust_id별 각 제품 구매 횟수를 가져왔다.\n",
    "no_repay = list(d.query('amount < 2')['goods_id'].unique())\n",
    "# 재구매 없는 제품들을 리스트로 만들었다.\n",
    "no_s = list(set(refund).intersection(no_repay)) # 재구매 없고 높은 환불을 가지는 교집합의 제품 id를 가져왔다.\n",
    "tr['no_s'] = tr['goods_id'].apply(lambda x: 1 if x in no_s else 0)  # 구매정보 중 해당하는 제품 id에 1을"
   ]
  },
  {
   "cell_type": "code",
   "execution_count": null,
   "metadata": {},
   "outputs": [],
   "source": [
    "f = tr.query('no_s == 1').groupby('cust_id')['amount'].agg([('만족도 떨어지는 제품 총 구입금액',np.sum)]).reset_index()\n",
    "features = features.merge(f, how='left')"
   ]
  },
  {
   "cell_type": "code",
   "execution_count": null,
   "metadata": {},
   "outputs": [],
   "source": [
    "f = tr.groupby('cust_id')['no_s'].agg([('만족도 떨어지는 제품 총 구매건수',np.sum)]).reset_index()\n",
    "features = features.merge(f, how='left')"
   ]
  },
  {
   "cell_type": "markdown",
   "metadata": {},
   "source": [
    "### 가성비 제품 총 구입금액, 가성비 제품 총 구입건수\n",
    "#### 출처 : 12.ipynb"
   ]
  },
  {
   "cell_type": "code",
   "execution_count": null,
   "metadata": {},
   "outputs": [],
   "source": [
    "a = tr['amount'].mean() \n",
    "L_pay = list(tr.query('amount <= @a')['goods_id'].unique())\n",
    "b = tr.groupby('goods_id')['amount'].count().quantile(.9)\n",
    "d = tr.groupby('goods_id')['amount'].count().reset_index()\n",
    "most = list(d.query('amount >= @b')['goods_id'].unique())\n",
    "g = list(set(L_pay).intersection(most))\n",
    "tr['g'] = tr['goods_id'].apply(lambda x: 1 if x in g else 0)\n",
    "f = tr.query('g == 1').groupby('cust_id')['amount'].agg([('가성비 제품 총 구입금액',np.sum)]).reset_index()\n",
    "features = features.merge(f, how='left')\n",
    "f = tr.query('g == 1').groupby('cust_id')['amount'].agg([('가성비 제품 총 구입건수','count')]).reset_index()\n",
    "features = features.merge(f, how='left')"
   ]
  },
  {
   "cell_type": "markdown",
   "metadata": {},
   "source": [
    "### 휴면일수\n",
    "#### 출처 : 14.ipynb"
   ]
  },
  {
   "cell_type": "code",
   "execution_count": null,
   "metadata": {},
   "outputs": [],
   "source": [
    "import datetime as dt\n",
    "time = dt.datetime(2007,12,31)\n",
    "time\n",
    "f = tr.groupby('cust_id')['tran_date'].agg([('휴면일수', lambda x : (time - x.astype('datetime64').max()).days)]).reset_index(); f\n",
    "features = features.merge(f, how='left'); features"
   ]
  },
  {
   "cell_type": "markdown",
   "metadata": {},
   "source": [
    "### 취미용품 구매비율\n",
    "#### 출처 : 14.ipynb"
   ]
  },
  {
   "cell_type": "code",
   "execution_count": null,
   "metadata": {},
   "outputs": [],
   "source": [
    "f = tr[tr.amount > 0].groupby('cust_id')['gds_grp_mclas_nm'].agg([('취미용품 구매비율', lambda x: (list(x).count('골프') + list(x).count('스포츠') + list(x).count('통신/컴퓨터'))/len(x))]).reset_index(); f\n",
    "features = features.merge(f, how='left'); features"
   ]
  },
  {
   "cell_type": "markdown",
   "metadata": {},
   "source": [
    "### 아동용품 구매건수\n",
    "#### 출처 : 14.ipynb"
   ]
  },
  {
   "cell_type": "code",
   "execution_count": null,
   "metadata": {},
   "outputs": [],
   "source": [
    "f = tr[tr.amount > 0].groupby('cust_id')['gds_grp_mclas_nm'].agg([('아동용품 구매건수', lambda x: list(x).count('아동')+list(x).count('구두'))]).reset_index(); f\n",
    "features = features.merge(f, how='left'); features"
   ]
  },
  {
   "cell_type": "markdown",
   "metadata": {},
   "source": [
    "### 주말만방문\n",
    "#### 출처 : 14.ipynb"
   ]
  },
  {
   "cell_type": "code",
   "execution_count": null,
   "metadata": {},
   "outputs": [],
   "source": [
    "f = tr.groupby('cust_id')['tran_date'].agg([('주말만방문', lambda x: int(all(pd.to_datetime(x).dt.dayofweek>4)))]).reset_index(); f\n",
    "features = features.merge(f, how='left'); features"
   ]
  },
  {
   "cell_type": "markdown",
   "metadata": {},
   "source": [
    "### 명절식품비용\n",
    "#### 출처 : 16.ipynb"
   ]
  },
  {
   "cell_type": "code",
   "execution_count": null,
   "metadata": {},
   "outputs": [],
   "source": [
    "# 공휴일 패키지 (https://pypi.org/project/pytimekr/)\n",
    "!pip install pytimekr"
   ]
  },
  {
   "cell_type": "code",
   "execution_count": null,
   "metadata": {},
   "outputs": [],
   "source": [
    "from pytimekr import pytimekr\n",
    "display(pytimekr.lunar_newyear(2007),# 설날\n",
    "        pytimekr.chuseok(2007))      # 추석\n",
    "###  데이터가 2007년 한 해동안의 데이터 이기때문에 리스트로 대체\n",
    "# 명절 당일 5일전부터 연휴기간까지\n",
    "kr_holidays = ['2007-02-13 00:00:00', '2007-02-14 00:00:00', '2007-02-15 00:00:00', '2007-02-16 00:00:00', '2007-02-17 00:00:00', \n",
    "               '2007-02-18 00:00:00', '2007-02-19 00:00:00',\n",
    "               '2007-09-20 00:00:00', '2007-09-21 00:00:00', '2007-09-22 00:00:00', '2007-09-23 00:00:00', '2007-09-24 00:00:00', \n",
    "               '2007-09-25 00:00:00', '2007-09-26 00:00:00']\n",
    "holi_nm=['건강식품', '육류', '수산품', '축산가공', '젓갈/반찬', '가공식품', '농산물', '주류']\n",
    "f = tr.query(\"tran_date == @kr_holidays\").query(\"gds_grp_mclas_nm == @holi_nm\").groupby('cust_id')['amount'].agg([\n",
    "    ('명절식품비용', np.sum)]).reset_index()\n",
    "\n",
    "t = tr.groupby('cust_id')['amount'].agg([('총구매액',np.sum)])\n",
    "f = pd.merge(t,f,on = 'cust_id', how ='left').fillna(0)\n",
    "f\n",
    "f = f[['cust_id','명절식품비용']]\n",
    "features = features.merge(f,on='cust_id', how='left')"
   ]
  },
  {
   "cell_type": "markdown",
   "metadata": {},
   "source": [
    "### 발렌타인, 화이트\n",
    "#### 출처 : 16.ipynb"
   ]
  },
  {
   "cell_type": "code",
   "execution_count": null,
   "metadata": {},
   "outputs": [],
   "source": [
    "munchies = ['양과(세트행사)', 'takeout양과', '즉석.스넥(매장)', '브랜드샵',\n",
    "            '수입단기행사', '브랑제리', '스낵형 델리', '가공선물세트', '제과제빵', '캔디', '케익류']\n",
    "# 당일 기준 2일 전까지\n",
    "valentine = ['2007-02-12 00:00:00', '2007-02-13 00:00:00', '2007-02-14 00:00:00']\n",
    "white = ['2007-03-12 00:00:00', '2007-03-13 00:00:00', '2007-03-14 00:00:00']\n",
    "#발렌타인 데이의 제과제품 + 액세서리\n",
    "v = tr.query(\"tran_date == @valentine\").query(\"gds_grp_nm == @munchies\")\n",
    "v2 = tr.query(\"tran_date == @valentine\").query(\"gds_grp_mclas_nm == '액세서리'\")\n",
    "\n",
    "\n",
    "f = pd.merge(v,v2,how='outer')\n",
    "f['발렌타인'] = 1\n",
    "f\n",
    "t = tr\n",
    "t = t.merge(f,how = 'left').fillna(0)\n",
    "t = t.groupby('cust_id')['발렌타인'].agg([('발렌타인',np.max)])\n",
    "features = features.merge(t,on='cust_id', how='left')\n",
    "#화이트 데이의 제과제품 + 액세서리\n",
    "w = tr.query(\"tran_date == @white\").query(\"gds_grp_nm == @munchies\")\n",
    "w2 = tr.query(\"tran_date == @white\").query(\"gds_grp_mclas_nm == '액세서리'\")\n",
    "\n",
    "\n",
    "f = pd.merge(w,w2,how='outer')\n",
    "f['화이트'] = 1\n",
    "f\n",
    "t = tr\n",
    "t = t.merge(f,how = 'left').fillna(0)\n",
    "t = t.groupby('cust_id')['화이트'].agg([('화이트',np.max)])\n",
    "features = features.merge(t,on='cust_id', how='left')"
   ]
  },
  {
   "cell_type": "markdown",
   "metadata": {},
   "source": [
    "### 단독상품군구매율\n",
    "#### 출처 : 16.ipynb"
   ]
  },
  {
   "cell_type": "code",
   "execution_count": null,
   "metadata": {},
   "outputs": [],
   "source": [
    "tr_cbynm = tr.groupby(['cust_id','gds_grp_mclas_nm'])['amount'].agg([('구매건수', np.size)]).reset_index()\n",
    "tr_cbynm.query(\"구매건수 == 1\")\n",
    "f = tr.groupby('cust_id')['amount'].agg([('구매건수', np.size)])\n",
    "f2 = tr_cbynm.query(\"구매건수 == 1\").groupby('cust_id')['구매건수'].agg([('단독상품군구매수', np.sum)]).reset_index()\n",
    "\n",
    "f = pd.merge(f,f2, on = 'cust_id', how='left').fillna(0)\n",
    "f['단독상품군구매율'] = f['단독상품군구매수']/f['구매건수']\n",
    "f\n",
    "f = f[['cust_id','단독상품군구매율']]\n",
    "features = features.merge(f,on='cust_id', how='left')"
   ]
  },
  {
   "cell_type": "markdown",
   "metadata": {},
   "source": [
    "### endmonth (월 말 구매금액 비율)\n",
    "#### 출처 : 17.ipynb"
   ]
  },
  {
   "cell_type": "code",
   "execution_count": null,
   "metadata": {},
   "outputs": [],
   "source": [
    "tr['day'] = tr['tran_date'].agg(lambda x: pd.to_datetime(x).day)\n",
    "\n",
    "tr['ee_month'] = tr['day'].agg(lambda x: 'endmonth' if x in list(range(15,31)) else 'earlymonth')"
   ]
  },
  {
   "cell_type": "code",
   "execution_count": null,
   "metadata": {},
   "outputs": [],
   "source": [
    "e1 = tr.groupby('cust_id')['amount'].agg([('amount', 'sum')]).reset_index()\n",
    "\n",
    "e2 = tr.groupby(['cust_id', 'ee_month'])['amount'].agg([('eamount', 'sum')]).reset_index()\n",
    "\n",
    "e2 = pd.merge(e1, e2, on = 'cust_id', how = 'left')\n",
    "\n",
    "e2['ee_rate'] = e2['eamount'] / e2['amount']"
   ]
  },
  {
   "cell_type": "code",
   "execution_count": null,
   "metadata": {},
   "outputs": [],
   "source": [
    "ee1 = pd.pivot_table(e2, values = 'ee_rate', index = 'cust_id', columns = 'ee_month',\n",
    "                    aggfunc = sum, fill_value = 0).reset_index()\n",
    "\n",
    "ee1 = ee1.rename_axis(None, axis = 1)\n",
    "\n",
    "f = ee1[['cust_id', 'endmonth']]\n",
    "\n",
    "features = features.merge(f, how='left'); features"
   ]
  },
  {
   "cell_type": "markdown",
   "metadata": {},
   "source": [
    "### 구매액표준편차\n",
    "#### 출처 : 22.ipynb"
   ]
  },
  {
   "cell_type": "code",
   "execution_count": null,
   "metadata": {},
   "outputs": [],
   "source": [
    "#가설_여성의 구매액 표준편차는 남성에 비해 높을 것이다.\n",
    "#식료품은 다른 제품들보다 평균적으로 낮은 금액이므로, 같은 금액을 구매할 때 여성 구매액의 표준편차가 남성보다 더 높을 것이다. \n",
    "f = tr.groupby('cust_id')['amount'].agg([('구매액표준편차',np.std)]).reset_index()\n",
    "features = features.merge(f, how='left');features"
   ]
  },
  {
   "cell_type": "markdown",
   "metadata": {},
   "source": [
    "### 중복구매율\n",
    "#### 출처 : 22.ipynb"
   ]
  },
  {
   "cell_type": "code",
   "execution_count": null,
   "metadata": {},
   "outputs": [],
   "source": [
    "#성별에 따른 재구매율의 차이는 정확히 연구된 바 없으나, 다양한 연구에서 재구매율이 여러 요인에 영향을 받는다는 것을 확인할 수 있다. \n",
    "#그 중 성별을 구분하여 재구매율의 영향을 분석한 연구들이 많아, 재구매율에 성별이 영향을 충분히 미칠 것이라 유추해볼 수 있다. \n",
    "#해당 feature는 구매건수를 구매상품종류1로 나눈 값으로, 이 값이 클수록 전반적인 재구매율이 높다고 볼 수 있다. \n",
    "#'음식관여도가 HMR선택속성 및 재구매의도에 미치는 영향_여성소비자를 중심으로'(이승철, 송기옥, 2018)\n",
    "#'남성의 크로스섹슈얼 쇼핑성향, 선호도 및 재구매의도의 관계'(임채관 외, 2013)\n",
    "#'고령 여성소비자의 식품구매속성에 따른 가공식품 신뢰가 재구매 의도에 미치는 영향'(권다슬 외, 2017)\n",
    "features['중복구매배수'] = features['구매건수']/features['구매상품종류1'];features"
   ]
  },
  {
   "cell_type": "markdown",
   "metadata": {},
   "source": [
    "### 분기별 구매추세\n",
    "#### 출처 : 23.ipynb"
   ]
  },
  {
   "cell_type": "code",
   "execution_count": null,
   "metadata": {},
   "outputs": [],
   "source": [
    "month_to = tr.tran_date.dt.month.max()\n",
    "month_trans = []\n",
    "for i in range(4):\n",
    "    month_from = month_to -3 \n",
    "    month_trans.append(tr.query('@month_from < month <=@month_to')\n",
    "                     .groupby('cust_id')['amount']\n",
    "                     .agg([(f'w{4-i}', 'count')])\n",
    "                     .reset_index())\n",
    "    month_to = month_from\n",
    "\n",
    "f = pd.DataFrame({'cust_id': tr.cust_id.unique()})\n",
    "for w in month_trans[::-1]:\n",
    "    f = pd.merge(f, w, how = 'left')\n",
    "f = f.fillna(0)\n",
    "\n",
    "f['분기별_구매추세'] = f.apply(lambda x: np.polyfit(range(4), x[1:], 1)[0].round(2), axis=1)\n",
    "features = features.merge(f.iloc[:,[0,-1]], how='left'); features"
   ]
  },
  {
   "cell_type": "markdown",
   "metadata": {},
   "source": [
    "### 의류_거래율(의류+식품+생활잡화)\n",
    "#### 출처 : 23.ipynb"
   ]
  },
  {
   "cell_type": "code",
   "execution_count": null,
   "metadata": {},
   "outputs": [],
   "source": [
    "food = ['농산물','가공식품','축산가공','수산품','육류','차/커피','젓갈/반찬','건강식품']\n",
    "daily_life = ['일용잡화','주방용품','식기','생활잡화','침구/수예']\n",
    "clothes = ['디자니어','시티웨어','섬유잡화','캐주얼', \n",
    "           '트래디셔널','기타의류','란제리/내의','모피/피혁', '피혁잡화','남성 트랜디', '남성정장','남성 캐쥬얼']\n",
    "clo = (tr.query('gds_grp_mclas_nm in @ clothes').groupby('cust_id')['amount'].agg('count'))\n",
    "total = (tr.query('gds_grp_mclas_nm in @food or gds_grp_mclas_nm in @ daily_life or gds_grp_mclas_nm in @ clothes')\n",
    "         .groupby('cust_id')['amount'].agg('count'))\n",
    "g = (clo/total).apply(lambda x: 0 if pd.isnull(x) else x).reset_index()\n",
    "f= pd.DataFrame({'cust_id': tr.cust_id.unique()})\n",
    "f = f.merge(g ,how = 'left').amount.apply(lambda x: 0 if pd.isna(x) else x).reset_index()\n",
    "f.columns = ['cust_id','의류_거래율(의류+식품+생활잡화)']\n",
    "features = pd.merge(features, f, how = 'left')\n",
    "display(f)"
   ]
  },
  {
   "cell_type": "markdown",
   "metadata": {},
   "source": [
    "### 패션 상품 중 남성 상품 거래율\n",
    "#### 출처 : 23.ipynb"
   ]
  },
  {
   "cell_type": "code",
   "execution_count": null,
   "metadata": {},
   "outputs": [],
   "source": [
    "fashion_cl = ['디자니어',' 트래디시녈','시티웨어','섬유잡화','명품','캐쥬얼',\n",
    "              '구두','섬유잡화','기타의류','화장품','란제리/내의','모피/피혁','피혁잡화',\n",
    "             '남성 트랜디', '남성정장','남성 캐쥬얼','스포츠', '골프', '셔츠','준보석/시계','액세서리']\n",
    "women = ['화장품','모피/피혁','피혁잡화']\n",
    "man = ['남성 트랜디', '남성정장','남성 캐쥬얼','액세서리','스포츠', '골프','준보석/시계']\n",
    "category_1 = tr.query('gds_grp_mclas_nm in @man').groupby('cust_id')['amount'].agg('count') # 카테코리 남성 제품 거래횟수\n",
    "category_2 = tr[tr.gds_grp_nm.str.contains(\"넥타이|남\")].groupby('cust_id')['amount'].agg('count') # 소분류 중 남성 추정 제품 거래 횟수\n",
    "men_item = (category_1.add(category_2, fill_value =0))\n",
    "fashion = tr.query('gds_grp_mclas_nm in @fashion_cl').groupby('cust_id')['amount'].agg('count') \n",
    "result = ((men_item / fashion).apply(lambda x: 0 if pd.isna(x) else x).\n",
    "          reset_index().rename(columns = {'amount': '패션_대비_남성상품_거래율'}))\n",
    "f_m = pd.DataFrame({'cust_id': tr.cust_id.unique()})\n",
    "f_m = f_m.merge(result, how = 'left')\n",
    "f_m = f_m.패션_대비_남성상품_거래율.apply(lambda x: 0 if pd.isna(x) else x)\n",
    "f_m = f_m.reset_index().rename(columns = {'index': 'cust_id'})\n",
    "features = pd.merge(features, f_m, how = 'left')\n",
    "display(f_m)"
   ]
  },
  {
   "cell_type": "markdown",
   "metadata": {},
   "source": [
    "### 패션 상품 중 여성 상품 거래율\n",
    "#### 출처 : 23.ipynb"
   ]
  },
  {
   "cell_type": "code",
   "execution_count": null,
   "metadata": {},
   "outputs": [],
   "source": [
    "category_3 = tr.query('gds_grp_mclas_nm in @women').groupby('cust_id')['amount'].agg('count') # 카테코리 여성 제품 거래횟수\n",
    "category_4 = tr[tr.gds_grp_nm.str.contains(\"여|스타킹|란제리\")].groupby('cust_id')['amount'].agg('count')   # 소분류 중 여성관련 상품 거래 횟수\n",
    "women_item = (category_3.add(category_4, fill_value =0))\n",
    "fashion = tr.query('gds_grp_mclas_nm in @fashion_cl').groupby('cust_id')['amount'].agg('count') \n",
    "result = ((women_item / fashion).apply(lambda x: 0 if pd.isna(x) else x).\n",
    "          reset_index().rename(columns = {'amount': '패션_대비_여성상품_거래율'}))"
   ]
  },
  {
   "cell_type": "code",
   "execution_count": null,
   "metadata": {},
   "outputs": [],
   "source": [
    "f_w = pd.DataFrame({'cust_id': tr.cust_id.unique()})\n",
    "f_w = f_w.merge(result, how = 'left')\n",
    "f_w = f_w.패션_대비_여성상품_거래율.apply(lambda x: 0 if pd.isna(x) else x)\n",
    "f_w = f_w.reset_index().rename(columns = {'index': 'cust_id'})\n",
    "features = pd.merge(features, f_w, how = 'left')\n",
    "display(f_w)"
   ]
  },
  {
   "cell_type": "markdown",
   "metadata": {},
   "source": [
    "### 전체방문 중 환불방문(표준화)\n",
    "#### 출처 : 23.ipynb"
   ]
  },
  {
   "cell_type": "code",
   "execution_count": null,
   "metadata": {},
   "outputs": [],
   "source": [
    "re_item = ((tr[tr.amount<0].groupby('cust_id')['tran_date'].agg('nunique') /\n",
    "            tr.groupby('cust_id')['tran_date'].agg('nunique')).apply(lambda x: 0 if pd.isna(x) else x))\n",
    "display(re_item)\n",
    "rt_mean = re_item.mean()\n",
    "rt_std = re_item.std()\n",
    "f = (((re_item)-(rt_mean))/rt_std).reset_index().rename(columns = {'tran_date' : '전체방문_중_환불방문(표준화)'})\n",
    "features = pd.merge(features, f, how = 'left')\n",
    "display(f)"
   ]
  },
  {
   "cell_type": "markdown",
   "metadata": {},
   "source": [
    "### 의류구매 주말구매비율\n",
    "#### 출처 : 23.ipynb"
   ]
  },
  {
   "cell_type": "code",
   "execution_count": null,
   "metadata": {},
   "outputs": [],
   "source": [
    "tr['tran_date'] = tr.tran_date.astype('datetime64')\n",
    "tr['date'] = tr.tran_date.apply(lambda x : x.weekday())\n",
    "tr['month'] = tr.tran_date.apply(lambda x : x.month)"
   ]
  },
  {
   "cell_type": "code",
   "execution_count": 13,
   "metadata": {},
   "outputs": [
    {
     "ename": "NameError",
     "evalue": "name 'tr' is not defined",
     "output_type": "error",
     "traceback": [
      "\u001b[1;31m---------------------------------------------------------------------------\u001b[0m",
      "\u001b[1;31mNameError\u001b[0m                                 Traceback (most recent call last)",
      "\u001b[1;32m<ipython-input-13-959a0f942210>\u001b[0m in \u001b[0;36m<module>\u001b[1;34m\u001b[0m\n\u001b[1;32m----> 1\u001b[1;33m \u001b[0mtr\u001b[0m\u001b[1;33m[\u001b[0m\u001b[1;34m'new_amount'\u001b[0m\u001b[1;33m]\u001b[0m \u001b[1;33m=\u001b[0m \u001b[0mtr\u001b[0m\u001b[1;33m.\u001b[0m\u001b[0mamount\u001b[0m\u001b[1;33m.\u001b[0m\u001b[0mapply\u001b[0m\u001b[1;33m(\u001b[0m\u001b[1;32mlambda\u001b[0m \u001b[0mx\u001b[0m\u001b[1;33m:\u001b[0m \u001b[0mx\u001b[0m \u001b[1;32mif\u001b[0m \u001b[0mx\u001b[0m\u001b[1;33m>\u001b[0m\u001b[1;36m0\u001b[0m \u001b[1;32melse\u001b[0m \u001b[1;36m0\u001b[0m\u001b[1;33m)\u001b[0m\u001b[1;33m\u001b[0m\u001b[1;33m\u001b[0m\u001b[0m\n\u001b[0m\u001b[0;32m      2\u001b[0m \u001b[0mavg_week_fas\u001b[0m \u001b[1;33m=\u001b[0m \u001b[0mtr\u001b[0m\u001b[1;33m.\u001b[0m\u001b[0mquery\u001b[0m\u001b[1;33m(\u001b[0m\u001b[1;34m'date>=5 and gds_grp_mclas_nm in @ fashion_cl and new_amount != 0'\u001b[0m\u001b[1;33m)\u001b[0m\u001b[1;33m.\u001b[0m\u001b[0mgroupby\u001b[0m\u001b[1;33m(\u001b[0m\u001b[1;34m'cust_id'\u001b[0m\u001b[1;33m)\u001b[0m\u001b[1;33m[\u001b[0m\u001b[1;34m'new_amount'\u001b[0m\u001b[1;33m]\u001b[0m\u001b[1;33m.\u001b[0m\u001b[0magg\u001b[0m\u001b[1;33m(\u001b[0m\u001b[1;34m'count'\u001b[0m\u001b[1;33m)\u001b[0m\u001b[1;33m\u001b[0m\u001b[1;33m\u001b[0m\u001b[0m\n\u001b[0;32m      3\u001b[0m \u001b[0mall_fas\u001b[0m \u001b[1;33m=\u001b[0m \u001b[0mtr\u001b[0m\u001b[1;33m.\u001b[0m\u001b[0mquery\u001b[0m\u001b[1;33m(\u001b[0m\u001b[1;34m'gds_grp_mclas_nm in @ fashion_cl  and new_amount != 0'\u001b[0m\u001b[1;33m)\u001b[0m\u001b[1;33m.\u001b[0m\u001b[0mgroupby\u001b[0m\u001b[1;33m(\u001b[0m\u001b[1;34m'cust_id'\u001b[0m\u001b[1;33m)\u001b[0m\u001b[1;33m[\u001b[0m\u001b[1;34m'new_amount'\u001b[0m\u001b[1;33m]\u001b[0m\u001b[1;33m.\u001b[0m\u001b[0magg\u001b[0m\u001b[1;33m(\u001b[0m\u001b[1;34m'count'\u001b[0m\u001b[1;33m)\u001b[0m\u001b[1;33m\u001b[0m\u001b[1;33m\u001b[0m\u001b[0m\n\u001b[0;32m      4\u001b[0m \u001b[0mf\u001b[0m \u001b[1;33m=\u001b[0m \u001b[1;33m(\u001b[0m\u001b[0mavg_week_fas\u001b[0m\u001b[1;33m/\u001b[0m\u001b[0mall_fas\u001b[0m\u001b[1;33m)\u001b[0m\u001b[1;33m.\u001b[0m\u001b[0mapply\u001b[0m\u001b[1;33m(\u001b[0m\u001b[1;32mlambda\u001b[0m \u001b[0mx\u001b[0m\u001b[1;33m:\u001b[0m \u001b[1;36m0\u001b[0m \u001b[1;32mif\u001b[0m \u001b[0mpd\u001b[0m\u001b[1;33m.\u001b[0m\u001b[0misnull\u001b[0m\u001b[1;33m(\u001b[0m\u001b[0mx\u001b[0m\u001b[1;33m)\u001b[0m \u001b[1;32melse\u001b[0m \u001b[0mx\u001b[0m\u001b[1;33m)\u001b[0m\u001b[1;33m\u001b[0m\u001b[1;33m\u001b[0m\u001b[0m\n\u001b[0;32m      5\u001b[0m \u001b[0mf\u001b[0m \u001b[1;33m=\u001b[0m \u001b[0mf\u001b[0m\u001b[1;33m.\u001b[0m\u001b[0mreset_index\u001b[0m\u001b[1;33m(\u001b[0m\u001b[1;33m)\u001b[0m\u001b[1;33m.\u001b[0m\u001b[0mrename\u001b[0m\u001b[1;33m(\u001b[0m\u001b[0mcolumns\u001b[0m \u001b[1;33m=\u001b[0m \u001b[1;33m{\u001b[0m\u001b[1;34m'new_amount'\u001b[0m \u001b[1;33m:\u001b[0m \u001b[1;34m'의류구매_주말구매비율'\u001b[0m\u001b[1;33m}\u001b[0m\u001b[1;33m)\u001b[0m\u001b[1;33m\u001b[0m\u001b[1;33m\u001b[0m\u001b[0m\n",
      "\u001b[1;31mNameError\u001b[0m: name 'tr' is not defined"
     ]
    }
   ],
   "source": [
    "tr['new_amount'] = tr.amount.apply(lambda x: x if x>0 else 0)\n",
    "avg_week_fas = tr.query('date>=5 and gds_grp_mclas_nm in @ fashion_cl and new_amount != 0').groupby('cust_id')['new_amount'].agg('count')\n",
    "all_fas = tr.query('gds_grp_mclas_nm in @ fashion_cl  and new_amount != 0').groupby('cust_id')['new_amount'].agg('count')\n",
    "f = (avg_week_fas/all_fas).apply(lambda x: 0 if pd.isnull(x) else x)\n",
    "f = f.reset_index().rename(columns = {'new_amount' : '의류구매_주말구매비율'})\n",
    "f_te = pd.DataFrame({'cust_id': tr.cust_id.unique()})\n",
    "f_te = f_te.merge(f, how ='left').의류구매_주말구매비율.apply(lambda x: 0 if pd.isna(x) else x)\n",
    "f_te = f_te.reset_index().rename(columns = {'index' : 'cust_id'})\n",
    "features = pd.merge(features, f_te, how = 'left')\n",
    "display(f_te)"
   ]
  },
  {
   "cell_type": "markdown",
   "metadata": {},
   "source": [
    "### 월 재방문율\n",
    "#### 출처 : 23.ipynb"
   ]
  },
  {
   "cell_type": "code",
   "execution_count": null,
   "metadata": {},
   "outputs": [],
   "source": [
    "a1 = pd.pivot_table(tr, columns = 'month',values = 'tran_date', index = 'cust_id', aggfunc= 'nunique',fill_value = 0);\n",
    "a1 = a1.reset_index()\n",
    "del a1['cust_id']\n",
    "def point(x):\n",
    "    a= 1\n",
    "    re_go = 0\n",
    "    for i in range(11):\n",
    "        if x[a]>=1 and x[a+1]>=1:\n",
    "            re_go = re_go+1\n",
    "            a= a+1\n",
    "        else: \n",
    "            a= a+1\n",
    "    return re_go\n",
    "result = a1.apply(lambda x: point(x), axis =1)\n",
    "result = (result / 11).reset_index()\n",
    "result.columns = ['cust_id', '월_재방문율']\n",
    "features = pd.merge(features, result, how = 'left')\n",
    "display(result)"
   ]
  },
  {
   "cell_type": "markdown",
   "metadata": {},
   "source": [
    "### 거래당 구매 물품 다양성\n",
    "#### 출처 : 27.ipynb"
   ]
  },
  {
   "cell_type": "code",
   "execution_count": null,
   "metadata": {},
   "outputs": [],
   "source": [
    "n = tr.gds_grp_mclas_nm.nunique()\n",
    "d = pd.DataFrame(tr.groupby(['cust_id','tran_date'])['gds_grp_mclas_nm'].count()/n)\n",
    "f = d.groupby('cust_id')['gds_grp_mclas_nm'].agg([('거래당 구매 물품 다양성','mean')])\n",
    "features = features.merge(f,on='cust_id', how='left'); features"
   ]
  },
  {
   "cell_type": "markdown",
   "metadata": {},
   "source": [
    "### 시즌 마감 방문 비율\n",
    "#### 출처 : 27.ipynb"
   ]
  },
  {
   "cell_type": "code",
   "execution_count": null,
   "metadata": {},
   "outputs": [],
   "source": [
    "def season(x):\n",
    "    m = x.month\n",
    "    d = x.day\n",
    "    if 21<= d <= 31 and 3<= m <= 5:\n",
    "        return('봄 시즌 마감')\n",
    "    elif 21<= d <= 31 and 6<= m <=8:\n",
    "        return('여름 시즌 마감')\n",
    "    elif 21<= d <= 31 and 9<= m <=11:\n",
    "        return('가을 시즌 마감')\n",
    "    elif 21<= d <= 31 and (12 == m or m <=2):\n",
    "        return('겨울 시즌 마감')\n",
    "    else :\n",
    "        return('그 외')    \n",
    "\n",
    "tr['season_sale'] = pd.to_datetime(tr.tran_date).apply(season)\n",
    "f = pd.pivot_table(tr, index='cust_id', columns='season_sale', values='amount', \n",
    "                   aggfunc=np.size, fill_value=0).reset_index()\n",
    "af = pd.DataFrame(f['봄 시즌 마감']+f['여름 시즌 마감']+f['가을 시즌 마감']+f['겨울 시즌 마감']).reset_index()\n",
    "af = af.rename({'index':'cust_id',0:'시즌 마감'},axis=1)\n",
    "ss = pd.DataFrame(af['시즌 마감']/features['내점일수']).reset_index()\n",
    "ss = ss.rename({'index':'cust_id',0:'시즌 마감 방문비율'},axis=1)\n",
    "features = features.merge(ss,on='cust_id', how='left'); features"
   ]
  },
  {
   "cell_type": "markdown",
   "metadata": {},
   "source": [
    "### 상반기 구매비율, 하반기 구매비율, 구매 추세\n",
    "#### 출처 : 29.ipynb"
   ]
  },
  {
   "cell_type": "code",
   "execution_count": null,
   "metadata": {},
   "outputs": [],
   "source": [
    "f = tr.groupby('cust_id')['tran_date'].agg([\n",
    "    ('상반기 구매비율', lambda x: np.mean(pd.to_datetime(x).dt.month.isin([1, 2, 3, 4, 5, 6]))),\n",
    "    ('하반기 구매비율', lambda x: np.mean(pd.to_datetime(x).dt.month.isin([7, 8, 9, 10, 11, 12])))\n",
    "]).reset_index()\n",
    "features = features.merge(f, how='left'); features\n",
    "features['구매 추세'] = features['하반기 구매비율'] - features['상반기 구매비율']\n",
    "features"
   ]
  },
  {
   "cell_type": "markdown",
   "metadata": {},
   "source": [
    "### 주구매지점 재방문율\n",
    "#### 출처 : 30.ipynb"
   ]
  },
  {
   "cell_type": "code",
   "execution_count": null,
   "metadata": {},
   "outputs": [],
   "source": [
    "t = tr.groupby(['cust_id','store_nm'])['amount'].agg('count').reset_index()\n",
    "t\n",
    "f = t.groupby('cust_id')['amount'].agg([('주구매지점재방문률',lambda x :((x.max()-1) / x.sum()) * 100)]).reset_index()\n",
    "f.주구매지점재방문률 = f.주구매지점재방문률.round(2)\n",
    "features = features.merge(f, how='left')"
   ]
  },
  {
   "cell_type": "markdown",
   "metadata": {},
   "source": [
    "### 내점시마다 구매액의 일관성\n",
    "#### 출처 : 31.ipynb"
   ]
  },
  {
   "cell_type": "code",
   "execution_count": null,
   "metadata": {},
   "outputs": [],
   "source": [
    "f =tr.groupby(['cust_id','tran_date'])['amount'].sum().reset_index().groupby('cust_id')['amount'].agg(\n",
    "                                                    [('내점시마다 구매액의 일관성',lambda x : np.var(x))]).reset_index();f\n",
    "features = features.merge(f, how='left'); features "
   ]
  },
  {
   "cell_type": "markdown",
   "metadata": {},
   "source": [
    "<br><font color='green'>\n",
    "### Feature Correlation"
   ]
  },
  {
   "cell_type": "code",
   "execution_count": null,
   "metadata": {},
   "outputs": [],
   "source": [
    "# 상관계수(-1 ~ +1)를 통해 feature 간의 유사성을 파악 \n",
    "plt.figure(figsize=(30,30))\n",
    "sns.heatmap(features.iloc[:,1:].corr(), annot=True, cmap=\"YlGnBu\")\n",
    "plt.show()"
   ]
  },
  {
   "cell_type": "code",
   "execution_count": null,
   "metadata": {},
   "outputs": [],
   "source": [
    "## 상관계수를 살펴보니 값이 없거나 높게 나오는 피쳐들이 있어서 삭제한다."
   ]
  },
  {
   "cell_type": "code",
   "execution_count": null,
   "metadata": {},
   "outputs": [],
   "source": [
    "del features['구매상품종류2']\n",
    "del features['구매상품종류3']\n",
    "del features['금요일 방문 횟수']\n",
    "del features['최근3개월_구매금액']\n",
    "del features['최근3개월_구매건수']\n",
    "del features['최근6개월_구매금액']\n",
    "del features['최근6개월_구매건수']\n",
    "del features['최근12개월_구매금액']\n",
    "del features['최근12개월_구매건수']\n",
    "del features['주말만방문']\n",
    "del features['의류구매_주말구매비율']\n",
    "del features['기울기']\n",
    "del features['가장 비싸게 산 품목']\n",
    "del features['하반기 구매비율']\n",
    "del features['주말방문비율']\n",
    "del features['구매물품종류수']\n",
    "del features['최근 구매일']\n",
    "del features['주중방문건수']\n",
    "del features['vip지수']\n",
    "del features['하루 최고 구매 금액']\n",
    "del features['가성비 제품 총 구입건수']\n",
    "del features['재구매 높은 상품에 대한 여부']\n",
    "del features['분기별_구매추세']\n",
    "del features['거래당 구매 물품 다양성']"
   ]
  },
  {
   "cell_type": "code",
   "execution_count": null,
   "metadata": {},
   "outputs": [],
   "source": [
    "# 상관계수(-1 ~ +1)를 통해 feature 간의 유사성을 파악 \n",
    "plt.figure(figsize=(30,30))\n",
    "sns.heatmap(features.iloc[:,1:].corr(), annot=True, cmap=\"YlGnBu\")\n",
    "plt.show()"
   ]
  },
  {
   "cell_type": "markdown",
   "metadata": {
    "_uuid": "a9813ebe8f5d527dfb4fd4bc3834c8547fae9b84",
    "colab": {
     "autoexec": {
      "startup": false,
      "wait_interval": 0
     }
    },
    "colab_type": "code",
    "id": "53OCEl0yhTQb"
   },
   "source": [
    "<font color=\"blue\"><p>\n",
    "## Save Features\n",
    "- 아래 코드를 수행하면 생성한 모든 파생변수가 학습용과 평가용으로 분리되어 저장된다."
   ]
  },
  {
   "cell_type": "code",
   "execution_count": null,
   "metadata": {
    "_uuid": "5d11137c06705c179dc3f71accb96c7c3586083a",
    "colab": {
     "autoexec": {
      "startup": false,
      "wait_interval": 0
     }
    },
    "colab_type": "code",
    "id": "j6f4eGnChTRO",
    "outputId": "75ac69b7-f7d3-4a89-8fc9-58630147b486"
   },
   "outputs": [],
   "source": [
    "display(features)\n",
    "features.info()"
   ]
  },
  {
   "cell_type": "code",
   "execution_count": null,
   "metadata": {},
   "outputs": [],
   "source": [
    "X_train = pd.DataFrame({'cust_id': np.sort(train['cust_id'].unique())}).merge(features)\n",
    "X_train.to_csv(os.path.abspath(\"../dat\")+'/ X_train.csv', index=False, encoding='cp949')\n",
    "\n",
    "X_test = pd.DataFrame({'cust_id': np.sort(test['cust_id'].unique())}).merge(features)\n",
    "X_test.to_csv(os.path.abspath(\"../dat\")+'/ X_test.csv', index=False, encoding='cp949')"
   ]
  },
  {
   "cell_type": "markdown",
   "metadata": {
    "_uuid": "8d7c2ed40c79036c15ef7246f0bb3cd15c9472d1"
   },
   "source": [
    "<font color=\"#CC3D3D\"><p>\n",
    "# End"
   ]
  }
 ],
 "metadata": {
  "colab": {
   "default_view": {},
   "name": "Exercises_0418_01_ans.ipynb",
   "provenance": [],
   "version": "0.3.2",
   "views": {}
  },
  "kernelspec": {
   "display_name": "Python 3",
   "language": "python",
   "name": "python3"
  },
  "language_info": {
   "codemirror_mode": {
    "name": "ipython",
    "version": 3
   },
   "file_extension": ".py",
   "mimetype": "text/x-python",
   "name": "python",
   "nbconvert_exporter": "python",
   "pygments_lexer": "ipython3",
   "version": "3.8.3"
  }
 },
 "nbformat": 4,
 "nbformat_minor": 1
}
